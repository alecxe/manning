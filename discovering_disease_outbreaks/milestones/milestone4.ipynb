{
 "cells": [
  {
   "cell_type": "code",
   "execution_count": null,
   "outputs": [],
   "source": [
    "import pandas as pd\n",
    "\n",
    "data = pd.read_csv(\"processed_headlines_clustered.csv\", index_col=0).drop(\n",
    "    columns=[\"accented_city\", \"pop\"])\n",
    "\n",
    "data[['headline', 'cities', 'latitude', 'longitude', 'countrycode', 'cluster']].head()"
   ],
   "metadata": {
    "collapsed": false,
    "pycharm": {
     "name": "#%%\n"
    }
   }
  },
  {
   "cell_type": "code",
   "execution_count": null,
   "outputs": [],
   "source": [
    "data.info()"
   ],
   "metadata": {
    "collapsed": false,
    "pycharm": {
     "name": "#%%\n"
    }
   }
  },
  {
   "cell_type": "code",
   "execution_count": null,
   "outputs": [],
   "source": [
    "us_data = data[data[\"countrycode\"] == \"US\"].copy()\n",
    "world_data = data[data[\"countrycode\"] != \"US\"].copy()\n",
    "\n",
    "print(f\"There are {len(us_data)} headlines in the US.\")\n",
    "print(f\"There are {len(world_data)} headlines outside the US.\")"
   ],
   "metadata": {
    "collapsed": false,
    "pycharm": {
     "name": "#%%\n"
    }
   }
  },
  {
   "cell_type": "code",
   "execution_count": null,
   "outputs": [],
   "source": [
    "def cluster_location(clusterer, data, lat_string=\"latitude\", lon_string=\"longitude\"):\n",
    "    \"\"\"\n",
    "    Fit a clustering algorithm on location data.\n",
    "    \"\"\"\n",
    "    features = data[[lat_string, lon_string]].copy()\n",
    "    clusterer.fit(features)\n",
    "    # Assign the cluster labels\n",
    "    data[\"cluster\"] = clusterer.labels_\n",
    "    return data"
   ],
   "metadata": {
    "collapsed": false,
    "pycharm": {
     "name": "#%%\n"
    }
   }
  },
  {
   "cell_type": "code",
   "execution_count": null,
   "outputs": [],
   "source": [
    "from sklearn.cluster import DBSCAN\n",
    "\n",
    "us_clusterer = DBSCAN(eps=3, min_samples=10)\n",
    "us_data = cluster_location(us_clusterer, us_data)\n",
    "us_data['cluster'].value_counts()"
   ],
   "metadata": {
    "collapsed": false,
    "pycharm": {
     "name": "#%%\n"
    }
   }
  },
  {
   "cell_type": "code",
   "execution_count": null,
   "outputs": [],
   "source": [
    "world_clusterer = DBSCAN(eps=10, min_samples=8)\n",
    "world_data = cluster_location(world_clusterer, world_data)\n",
    "world_data['cluster'].value_counts()"
   ],
   "metadata": {
    "collapsed": false,
    "pycharm": {
     "name": "#%%\n"
    }
   }
  },
  {
   "cell_type": "code",
   "execution_count": null,
   "outputs": [],
   "source": [
    "import math\n",
    "\n",
    "\n",
    "def find_centroid(data):\n",
    "    \"\"\"\n",
    "    Calculate the centroid of geographic points.\n",
    "    \n",
    "    Based on https://stackoverflow.com/a/57346455/5755357\n",
    "    \"\"\"\n",
    "\n",
    "    x = 0\n",
    "    y = 0\n",
    "    z = 0\n",
    "\n",
    "    # Iterate through each coordinate in radians\n",
    "    for longitude, latitude in zip(data[\"longitude\"], data[\"latitude\"]):\n",
    "        longitude, latitude = math.radians(longitude), math.radians(latitude)\n",
    "        # Convert to a 3D position in radians\n",
    "        x += math.cos(latitude) * math.cos(longitude)\n",
    "        y += math.cos(latitude) * math.sin(longitude)\n",
    "        z += math.sin(latitude)\n",
    "\n",
    "    # Get the averages of each radians\n",
    "    n = len(data)\n",
    "    x /= n\n",
    "    y /= n\n",
    "    z /= n\n",
    "\n",
    "    # Apply formula\n",
    "    central_longitude = math.atan2(y, x)\n",
    "    central_square_root = math.sqrt(x ** 2 + y ** 2)\n",
    "    central_latitude = math.atan2(z, central_square_root)\n",
    "\n",
    "    # Convert back to degrees\n",
    "    centroid = dict(\n",
    "        latitude=math.degrees(central_latitude),\n",
    "        longitude=math.degrees(central_longitude),\n",
    "    )\n",
    "    return centroid"
   ],
   "metadata": {
    "collapsed": false,
    "pycharm": {
     "name": "#%%\n"
    }
   }
  },
  {
   "cell_type": "code",
   "execution_count": null,
   "outputs": [],
   "source": [
    "find_centroid(world_data[world_data['cluster'] == 1])"
   ],
   "metadata": {
    "collapsed": false,
    "pycharm": {
     "name": "#%%\n"
    }
   }
  },
  {
   "cell_type": "code",
   "execution_count": null,
   "outputs": [],
   "source": [
    "import numpy as np\n",
    "\n",
    "def haversine_formula_two_arrays(\n",
    "    longitude_one, latitude_one, longitude_two, latitude_two\n",
    "):\n",
    "    \"\"\"\n",
    "    Calculate the Great Circle distance between two points \n",
    "    using the Haversine Formula. Latitude and Longitude are in degrees.\n",
    "    \n",
    "    Source: https://stackoverflow.com/a/4913653/5755357\n",
    "    \"\"\"\n",
    "    # Convert to radians\n",
    "    longitude_one, latitude_one, longitude_two, latitude_two = map(\n",
    "        np.radians, [longitude_one, latitude_one, longitude_two, latitude_two]\n",
    "    )\n",
    "\n",
    "    # Apply Haversine formula\n",
    "    delta_longitude = longitude_two - longitude_one\n",
    "    delta_latitude = latitude_two - latitude_one\n",
    "    # Formula\n",
    "    a = (\n",
    "        np.sin(delta_latitude / 2) ** 2\n",
    "        + np.cos(latitude_one) * np.cos(latitude_two) * np.sin(delta_longitude / 2) ** 2\n",
    "    )\n",
    "    # Convert from radians to km\n",
    "    d = 2 * np.arcsin(np.sqrt(a))\n",
    "    radius_miles = 3956\n",
    "    return d * radius_miles"
   ],
   "metadata": {
    "collapsed": false,
    "pycharm": {
     "name": "#%%\n"
    }
   }
  },
  {
   "cell_type": "code",
   "execution_count": null,
   "outputs": [],
   "source": [],
   "metadata": {
    "collapsed": false,
    "pycharm": {
     "name": "#%%\n"
    }
   }
  }
 ],
 "metadata": {
  "hide_input": false,
  "kernelspec": {
   "display_name": "Python 3",
   "language": "python",
   "name": "python3"
  },
  "language_info": {
   "codemirror_mode": {
    "name": "ipython",
    "version": 3
   },
   "file_extension": ".py",
   "mimetype": "text/x-python",
   "name": "python",
   "nbconvert_exporter": "python",
   "pygments_lexer": "ipython3",
   "version": "3.8.5"
  },
  "toc": {
   "base_numbering": 1,
   "nav_menu": {},
   "number_sections": true,
   "sideBar": true,
   "skip_h1_title": false,
   "title_cell": "Table of Contents",
   "title_sidebar": "Contents",
   "toc_cell": false,
   "toc_position": {},
   "toc_section_display": true,
   "toc_window_display": false
  },
  "varInspector": {
   "cols": {
    "lenName": 16,
    "lenType": 16,
    "lenVar": 40
   },
   "kernels_config": {
    "python": {
     "delete_cmd_postfix": "",
     "delete_cmd_prefix": "del ",
     "library": "var_list.py",
     "varRefreshCmd": "print(var_dic_list())"
    },
    "r": {
     "delete_cmd_postfix": ") ",
     "delete_cmd_prefix": "rm(",
     "library": "var_list.r",
     "varRefreshCmd": "cat(var_dic_list()) "
    }
   },
   "types_to_exclude": [
    "module",
    "function",
    "builtin_function_or_method",
    "instance",
    "_Feature"
   ],
   "window_display": false
  }
 },
 "nbformat": 4,
 "nbformat_minor": 4
}