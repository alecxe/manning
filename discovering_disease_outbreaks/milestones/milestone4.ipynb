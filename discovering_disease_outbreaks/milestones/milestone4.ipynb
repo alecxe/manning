{
 "cells": [
  {
   "cell_type": "code",
   "execution_count": 2,
   "metadata": {
    "ExecuteTime": {
     "end_time": "2019-10-10T17:53:10.127432Z",
     "start_time": "2019-10-10T17:53:10.107361Z"
    }
   },
   "outputs": [
    {
     "data": {
      "text/html": [
       "<div>\n",
       "<style scoped>\n",
       "    .dataframe tbody tr th:only-of-type {\n",
       "        vertical-align: middle;\n",
       "    }\n",
       "\n",
       "    .dataframe tbody tr th {\n",
       "        vertical-align: top;\n",
       "    }\n",
       "\n",
       "    .dataframe thead th {\n",
       "        text-align: right;\n",
       "    }\n",
       "</style>\n",
       "<table border=\"1\" class=\"dataframe\">\n",
       "  <thead>\n",
       "    <tr style=\"text-align: right;\">\n",
       "      <th></th>\n",
       "      <th>headline</th>\n",
       "      <th>cities</th>\n",
       "      <th>latitude</th>\n",
       "      <th>longitude</th>\n",
       "      <th>countrycode</th>\n",
       "      <th>cluster</th>\n",
       "    </tr>\n",
       "  </thead>\n",
       "  <tbody>\n",
       "    <tr>\n",
       "      <th>0</th>\n",
       "      <td>Zika Outbreak Hits Miami</td>\n",
       "      <td>Miami</td>\n",
       "      <td>25.77427</td>\n",
       "      <td>-80.19366</td>\n",
       "      <td>US</td>\n",
       "      <td>0</td>\n",
       "    </tr>\n",
       "    <tr>\n",
       "      <th>1</th>\n",
       "      <td>Could Zika Reach New York City?</td>\n",
       "      <td>New York City</td>\n",
       "      <td>40.71427</td>\n",
       "      <td>-74.00597</td>\n",
       "      <td>US</td>\n",
       "      <td>0</td>\n",
       "    </tr>\n",
       "    <tr>\n",
       "      <th>2</th>\n",
       "      <td>First Case of Zika in Miami Beach</td>\n",
       "      <td>Miami Beach</td>\n",
       "      <td>25.79065</td>\n",
       "      <td>-80.13005</td>\n",
       "      <td>US</td>\n",
       "      <td>0</td>\n",
       "    </tr>\n",
       "    <tr>\n",
       "      <th>3</th>\n",
       "      <td>Mystery Virus Spreads in Recife, Brazil</td>\n",
       "      <td>Recife</td>\n",
       "      <td>-8.05389</td>\n",
       "      <td>-34.88111</td>\n",
       "      <td>BR</td>\n",
       "      <td>2</td>\n",
       "    </tr>\n",
       "    <tr>\n",
       "      <th>4</th>\n",
       "      <td>Dallas man comes down with case of Zika</td>\n",
       "      <td>Dallas</td>\n",
       "      <td>32.78306</td>\n",
       "      <td>-96.80667</td>\n",
       "      <td>US</td>\n",
       "      <td>0</td>\n",
       "    </tr>\n",
       "  </tbody>\n",
       "</table>\n",
       "</div>"
      ],
      "text/plain": [
       "                                  headline         cities  latitude  \\\n",
       "0                 Zika Outbreak Hits Miami          Miami  25.77427   \n",
       "1          Could Zika Reach New York City?  New York City  40.71427   \n",
       "2        First Case of Zika in Miami Beach    Miami Beach  25.79065   \n",
       "3  Mystery Virus Spreads in Recife, Brazil         Recife  -8.05389   \n",
       "4  Dallas man comes down with case of Zika         Dallas  32.78306   \n",
       "\n",
       "   longitude countrycode  cluster  \n",
       "0  -80.19366          US        0  \n",
       "1  -74.00597          US        0  \n",
       "2  -80.13005          US        0  \n",
       "3  -34.88111          BR        2  \n",
       "4  -96.80667          US        0  "
      ]
     },
     "execution_count": 2,
     "metadata": {},
     "output_type": "execute_result"
    }
   ],
   "source": [
    "import pandas as pd\n",
    "\n",
    "data = pd.read_csv(\"processed_headlines_clustered.csv\", index_col=0).drop(\n",
    "    columns=[\"accented_city\", \"pop\"])\n",
    "\n",
    "data[['headline', 'cities', 'latitude', 'longitude', 'countrycode', 'cluster']].head()"
   ]
  },
  {
   "cell_type": "code",
   "execution_count": 3,
   "metadata": {
    "ExecuteTime": {
     "end_time": "2019-10-10T17:53:10.134372Z",
     "start_time": "2019-10-10T17:53:10.128841Z"
    }
   },
   "outputs": [
    {
     "name": "stdout",
     "output_type": "stream",
     "text": [
      "<class 'pandas.core.frame.DataFrame'>\n",
      "Int64Index: 603 entries, 0 to 646\n",
      "Data columns (total 6 columns):\n",
      " #   Column       Non-Null Count  Dtype  \n",
      "---  ------       --------------  -----  \n",
      " 0   headline     603 non-null    object \n",
      " 1   cities       603 non-null    object \n",
      " 2   latitude     603 non-null    float64\n",
      " 3   longitude    603 non-null    float64\n",
      " 4   countrycode  603 non-null    object \n",
      " 5   cluster      603 non-null    int64  \n",
      "dtypes: float64(2), int64(1), object(3)\n",
      "memory usage: 33.0+ KB\n"
     ]
    }
   ],
   "source": [
    "data.info()"
   ]
  },
  {
   "cell_type": "code",
   "execution_count": 4,
   "metadata": {
    "ExecuteTime": {
     "end_time": "2019-10-10T17:53:10.151261Z",
     "start_time": "2019-10-10T17:53:10.145108Z"
    }
   },
   "outputs": [
    {
     "name": "stdout",
     "output_type": "stream",
     "text": [
      "There are 303 headlines in the US.\n",
      "There are 300 headlines outside the US.\n"
     ]
    }
   ],
   "source": [
    "us_data = data[data[\"countrycode\"] == \"US\"].copy()\n",
    "world_data = data[data[\"countrycode\"] != \"US\"].copy()\n",
    "\n",
    "print(f\"There are {len(us_data)} headlines in the US.\")\n",
    "print(f\"There are {len(world_data)} headlines outside the US.\")"
   ]
  },
  {
   "cell_type": "code",
   "execution_count": 5,
   "metadata": {
    "ExecuteTime": {
     "end_time": "2019-10-10T17:53:10.189199Z",
     "start_time": "2019-10-10T17:53:10.185470Z"
    }
   },
   "outputs": [],
   "source": [
    "def cluster_location(clusterer, data, lat_string=\"latitude\", lon_string=\"longitude\"):\n",
    "    \"\"\"\n",
    "    Fit a clustering algorithm on location data.\n",
    "    \"\"\"\n",
    "    features = data[[lat_string, lon_string]].copy()\n",
    "    clusterer.fit(features)\n",
    "    # Assign the cluster labels\n",
    "    data[\"cluster\"] = clusterer.labels_\n",
    "    return data"
   ]
  },
  {
   "cell_type": "code",
   "execution_count": 6,
   "metadata": {
    "ExecuteTime": {
     "end_time": "2019-10-10T17:53:10.651248Z",
     "start_time": "2019-10-10T17:53:10.225911Z"
    }
   },
   "outputs": [
    {
     "data": {
      "text/plain": [
       " 1    72\n",
       " 3    57\n",
       "-1    51\n",
       " 4    45\n",
       " 0    42\n",
       " 2    21\n",
       " 5    10\n",
       " 6     5\n",
       "Name: cluster, dtype: int64"
      ]
     },
     "execution_count": 6,
     "metadata": {},
     "output_type": "execute_result"
    }
   ],
   "source": [
    "from sklearn.cluster import DBSCAN\n",
    "\n",
    "us_clusterer = DBSCAN(eps=3, min_samples=10)\n",
    "us_data = cluster_location(us_clusterer, us_data)\n",
    "us_data['cluster'].value_counts()"
   ]
  },
  {
   "cell_type": "code",
   "execution_count": 7,
   "metadata": {
    "ExecuteTime": {
     "end_time": "2019-10-10T17:53:10.660895Z",
     "start_time": "2019-10-10T17:53:10.653056Z"
    }
   },
   "outputs": [
    {
     "data": {
      "text/plain": [
       "-1    76\n",
       " 1    60\n",
       " 2    59\n",
       " 3    52\n",
       " 0    22\n",
       " 5    11\n",
       " 4    11\n",
       " 6     9\n",
       "Name: cluster, dtype: int64"
      ]
     },
     "execution_count": 7,
     "metadata": {},
     "output_type": "execute_result"
    }
   ],
   "source": [
    "world_clusterer = DBSCAN(eps=10, min_samples=8)\n",
    "world_data = cluster_location(world_clusterer, world_data)\n",
    "world_data['cluster'].value_counts()"
   ]
  },
  {
   "cell_type": "code",
   "execution_count": 8,
   "metadata": {
    "ExecuteTime": {
     "end_time": "2019-10-10T17:53:22.145687Z",
     "start_time": "2019-10-10T17:53:22.140806Z"
    }
   },
   "outputs": [],
   "source": [
    "import math\n",
    "\n",
    "\n",
    "def find_centroid(data):\n",
    "    \"\"\"\n",
    "    Calculate the centroid of geographic points.\n",
    "    \n",
    "    Based on https://stackoverflow.com/a/57346455/5755357\n",
    "    \"\"\"\n",
    "\n",
    "    x = 0\n",
    "    y = 0\n",
    "    z = 0\n",
    "\n",
    "    # Iterate through each coordinate in radians\n",
    "    for longitude, latitude in zip(data[\"longitude\"], data[\"latitude\"]):\n",
    "        longitude, latitude = math.radians(longitude), math.radians(latitude)\n",
    "        # Convert to a 3D position in radians\n",
    "        x += math.cos(latitude) * math.cos(longitude)\n",
    "        y += math.cos(latitude) * math.sin(longitude)\n",
    "        z += math.sin(latitude)\n",
    "\n",
    "    # Get the averages of each radians\n",
    "    n = len(data)\n",
    "    x /= n\n",
    "    y /= n\n",
    "    z /= n\n",
    "\n",
    "    # Apply formula\n",
    "    central_longitude = math.atan2(y, x)\n",
    "    central_square_root = math.sqrt(x ** 2 + y ** 2)\n",
    "    central_latitude = math.atan2(z, central_square_root)\n",
    "\n",
    "    # Convert back to degrees\n",
    "    centroid = dict(\n",
    "        latitude=math.degrees(central_latitude),\n",
    "        longitude=math.degrees(central_longitude),\n",
    "    )\n",
    "    return centroid"
   ]
  },
  {
   "cell_type": "code",
   "execution_count": 9,
   "metadata": {
    "ExecuteTime": {
     "end_time": "2019-10-10T17:53:22.153232Z",
     "start_time": "2019-10-10T17:53:22.148047Z"
    }
   },
   "outputs": [
    {
     "data": {
      "text/plain": [
       "{'latitude': 48.67673171200486, 'longitude': 3.3638215785007146}"
      ]
     },
     "execution_count": 9,
     "metadata": {},
     "output_type": "execute_result"
    }
   ],
   "source": [
    "find_centroid(world_data[world_data['cluster'] == 1])"
   ]
  },
  {
   "cell_type": "code",
   "execution_count": 12,
   "metadata": {
    "ExecuteTime": {
     "end_time": "2019-10-10T17:53:29.569995Z",
     "start_time": "2019-10-10T17:53:29.565971Z"
    }
   },
   "outputs": [],
   "source": [
    "import numpy as np\n",
    "\n",
    "def haversine_formula_two_arrays(\n",
    "    longitude_one, latitude_one, longitude_two, latitude_two\n",
    "):\n",
    "    \"\"\"\n",
    "    Calculate the Great Circle distance between two points \n",
    "    using the Haversine Formula. Latitude and Longitude are in degrees.\n",
    "    \n",
    "    Source: https://stackoverflow.com/a/4913653/5755357\n",
    "    \"\"\"\n",
    "    # Convert to radians\n",
    "    longitude_one, latitude_one, longitude_two, latitude_two = map(\n",
    "        np.radians, [longitude_one, latitude_one, longitude_two, latitude_two]\n",
    "    )\n",
    "\n",
    "    # Apply Haversine formula\n",
    "    delta_longitude = longitude_two - longitude_one\n",
    "    delta_latitude = latitude_two - latitude_one\n",
    "    # Formula\n",
    "    a = (\n",
    "        np.sin(delta_latitude / 2) ** 2\n",
    "        + np.cos(latitude_one) * np.cos(latitude_two) * np.sin(delta_longitude / 2) ** 2\n",
    "    )\n",
    "    # Convert from radians to km\n",
    "    d = 2 * np.arcsin(np.sqrt(a))\n",
    "    radius_miles = 3956\n",
    "    return d * radius_miles"
   ]
  },
  {
   "cell_type": "code",
   "execution_count": null,
   "metadata": {},
   "outputs": [],
   "source": []
  }
 ],
 "metadata": {
  "hide_input": false,
  "kernelspec": {
   "display_name": "Python 3",
   "language": "python",
   "name": "python3"
  },
  "language_info": {
   "codemirror_mode": {
    "name": "ipython",
    "version": 3
   },
   "file_extension": ".py",
   "mimetype": "text/x-python",
   "name": "python",
   "nbconvert_exporter": "python",
   "pygments_lexer": "ipython3",
   "version": "3.8.5"
  },
  "toc": {
   "base_numbering": 1,
   "nav_menu": {},
   "number_sections": true,
   "sideBar": true,
   "skip_h1_title": false,
   "title_cell": "Table of Contents",
   "title_sidebar": "Contents",
   "toc_cell": false,
   "toc_position": {},
   "toc_section_display": true,
   "toc_window_display": false
  },
  "varInspector": {
   "cols": {
    "lenName": 16,
    "lenType": 16,
    "lenVar": 40
   },
   "kernels_config": {
    "python": {
     "delete_cmd_postfix": "",
     "delete_cmd_prefix": "del ",
     "library": "var_list.py",
     "varRefreshCmd": "print(var_dic_list())"
    },
    "r": {
     "delete_cmd_postfix": ") ",
     "delete_cmd_prefix": "rm(",
     "library": "var_list.r",
     "varRefreshCmd": "cat(var_dic_list()) "
    }
   },
   "types_to_exclude": [
    "module",
    "function",
    "builtin_function_or_method",
    "instance",
    "_Feature"
   ],
   "window_display": false
  }
 },
 "nbformat": 4,
 "nbformat_minor": 4
}
