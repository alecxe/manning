{
 "cells": [
  {
   "cell_type": "code",
   "execution_count": 1,
   "metadata": {
    "ExecuteTime": {
     "end_time": "2019-10-10T17:07:26.332339Z",
     "start_time": "2019-10-10T17:07:26.322639Z"
    }
   },
   "outputs": [
    {
     "data": {
      "text/plain": [
       "['Zika Outbreak Hits Miami',\n",
       " 'Could Zika Reach New York City?',\n",
       " 'First Case of Zika in Miami Beach',\n",
       " 'Mystery Virus Spreads in Recife, Brazil']"
      ]
     },
     "execution_count": 1,
     "metadata": {},
     "output_type": "execute_result"
    }
   ],
   "source": [
    "with open(\"headlines.txt\") as file:\n",
    "    data = [headline.strip() for headline in file]\n",
    "    \n",
    "data[:4]"
   ]
  },
  {
   "cell_type": "code",
   "execution_count": 2,
   "metadata": {
    "ExecuteTime": {
     "end_time": "2019-10-10T17:07:26.362101Z",
     "start_time": "2019-10-10T17:07:26.354757Z"
    }
   },
   "outputs": [
    {
     "data": {
      "text/plain": [
       "['Andorra', 'United Arab Emirates', 'Afghanistan', 'Antigua and Barbuda']"
      ]
     },
     "execution_count": 2,
     "metadata": {},
     "output_type": "execute_result"
    }
   ],
   "source": [
    "import geonamescache\n",
    "\n",
    "gc = geonamescache.GeonamesCache()\n",
    "countries = [country[\"name\"] for country in gc.get_countries().values()]\n",
    "countries[:4]"
   ]
  },
  {
   "cell_type": "code",
   "execution_count": 3,
   "metadata": {
    "ExecuteTime": {
     "end_time": "2019-10-10T17:07:26.445981Z",
     "start_time": "2019-10-10T17:07:26.379850Z"
    }
   },
   "outputs": [
    {
     "data": {
      "text/plain": [
       "['Andorra la Vella', 'Umm Al Quwain City', 'Ras Al Khaimah City', 'Zayed City']"
      ]
     },
     "execution_count": 3,
     "metadata": {},
     "output_type": "execute_result"
    }
   ],
   "source": [
    "cities = [city['name'] for city in gc.get_cities().values()]\n",
    "cities[:4]"
   ]
  },
  {
   "cell_type": "code",
   "execution_count": 4,
   "metadata": {
    "ExecuteTime": {
     "end_time": "2019-10-10T17:07:26.458882Z",
     "start_time": "2019-10-10T17:07:26.447422Z"
    }
   },
   "outputs": [
    {
     "data": {
      "text/plain": [
       "[('San Fernando', 8),\n",
       " ('Springfield', 8),\n",
       " ('San Pedro', 7),\n",
       " ('Richmond', 7),\n",
       " ('Mercedes', 6),\n",
       " ('La Paz', 6),\n",
       " ('Victoria', 6),\n",
       " ('Santa Rosa', 6),\n",
       " ('San Juan', 6),\n",
       " ('San Francisco', 6)]"
      ]
     },
     "execution_count": 4,
     "metadata": {},
     "output_type": "execute_result"
    }
   ],
   "source": [
    "from collections import Counter\n",
    "\n",
    "city_counts = Counter(cities)\n",
    "city_counts.most_common(10)"
   ]
  },
  {
   "cell_type": "markdown",
   "metadata": {},
   "source": [
    "## Removing Accent Marks\n",
    "\n",
    "We need to remove the accent marks from the lists of countries and cities. For this we will use the `unidecode` library. (Method from this [Stack Overflow answer](https://stackoverflow.com/questions/517923/what-is-the-best-way-to-remove-accents-in-a-python-unicode-string).) For the cities and the countries from geonamescache, we will map the unaccented name to the accented name. "
   ]
  },
  {
   "cell_type": "code",
   "execution_count": 5,
   "metadata": {
    "ExecuteTime": {
     "end_time": "2019-10-10T17:07:26.499178Z",
     "start_time": "2019-10-10T17:07:26.460673Z"
    }
   },
   "outputs": [
    {
     "data": {
      "text/plain": [
       "'Āsmār'"
      ]
     },
     "execution_count": 5,
     "metadata": {},
     "output_type": "execute_result"
    }
   ],
   "source": [
    "import unidecode\n",
    "\n",
    "country_accent_mapping = {\n",
    "    unidecode.unidecode(country): country for country in countries\n",
    "}\n",
    "\n",
    "city_accent_mapping = {\n",
    "    unidecode.unidecode(city): city for city in cities\n",
    "}\n",
    "city_accent_mapping[\"Asmar\"]"
   ]
  },
  {
   "cell_type": "code",
   "execution_count": 6,
   "metadata": {
    "ExecuteTime": {
     "end_time": "2019-10-10T17:07:26.504633Z",
     "start_time": "2019-10-10T17:07:26.500743Z"
    }
   },
   "outputs": [
    {
     "data": {
      "text/plain": [
       "['More Zika patients reported in Indang',\n",
       " 'Suva authorities confirmed the spread of Rotavirus',\n",
       " 'More Zika patients reported in Bella Vista',\n",
       " 'Zika Outbreak in Wichita Falls']"
      ]
     },
     "execution_count": 6,
     "metadata": {},
     "output_type": "execute_result"
    }
   ],
   "source": [
    "data = [unidecode.unidecode(headline) for headline in data]\n",
    "data[-4:]"
   ]
  },
  {
   "cell_type": "markdown",
   "metadata": {},
   "source": [
    "# Searching for Cities and Countries\n",
    "\n",
    "Next, we'll search each headline for any cities and/or countries. To do this, we use regular expressions created from the unaccented cities and countries."
   ]
  },
  {
   "cell_type": "code",
   "execution_count": 7,
   "metadata": {
    "ExecuteTime": {
     "end_time": "2019-10-10T17:07:26.526745Z",
     "start_time": "2019-10-10T17:07:26.523396Z"
    }
   },
   "outputs": [
    {
     "name": "stdout",
     "output_type": "stream",
     "text": [
      "There are 23151 cities to look through.\n",
      "There are 252 countries to look through.\n"
     ]
    }
   ],
   "source": [
    "# Create list of cities and countries\n",
    "unaccented_cities = list(city_accent_mapping.keys())\n",
    "unaccented_countries = set(country_accent_mapping.keys())\n",
    "\n",
    "print(f\"There are {len(unaccented_cities)} cities to look through.\")\n",
    "print(f\"There are {len(unaccented_countries)} countries to look through.\")"
   ]
  },
  {
   "cell_type": "code",
   "execution_count": 8,
   "metadata": {
    "ExecuteTime": {
     "end_time": "2019-10-10T17:07:26.575612Z",
     "start_time": "2019-10-10T17:07:26.572664Z"
    }
   },
   "outputs": [
    {
     "data": {
      "text/plain": [
       "<re.Match object; span=(0, 3), match='San'>"
      ]
     },
     "execution_count": 8,
     "metadata": {},
     "output_type": "execute_result"
    }
   ],
   "source": [
    "import re\n",
    "\n",
    "problem_city = 'San Jose'\n",
    "re.search('\\\\bSan\\\\b|\\\\bSan Jose\\\\b', problem_city)"
   ]
  },
  {
   "cell_type": "markdown",
   "metadata": {},
   "source": [
    "Here we see the second problem. We've matched only `San` instead of the entire city name. To correct this, we change the ordering of the regular expression."
   ]
  },
  {
   "cell_type": "code",
   "execution_count": 9,
   "metadata": {
    "ExecuteTime": {
     "end_time": "2019-10-10T17:07:26.598662Z",
     "start_time": "2019-10-10T17:07:26.595793Z"
    }
   },
   "outputs": [
    {
     "data": {
      "text/plain": [
       "<re.Match object; span=(0, 8), match='San Jose'>"
      ]
     },
     "execution_count": 9,
     "metadata": {},
     "output_type": "execute_result"
    }
   ],
   "source": [
    "re.search('\\\\bSan Jose\\\\b|\\\\bSan\\\\b', problem_city)"
   ]
  },
  {
   "cell_type": "code",
   "execution_count": 10,
   "metadata": {
    "ExecuteTime": {
     "end_time": "2019-10-10T17:07:26.644746Z",
     "start_time": "2019-10-10T17:07:26.637049Z"
    }
   },
   "outputs": [
    {
     "data": {
      "text/plain": [
       "['Chak Two Hundred Forty-nine Thal Development Authority',\n",
       " 'Dolores Hidalgo Cuna de la Independencia Nacional']"
      ]
     },
     "execution_count": 10,
     "metadata": {},
     "output_type": "execute_result"
    }
   ],
   "source": [
    "unaccented_cities = sorted(unaccented_cities, key=lambda x: len(x), reverse=True)\n",
    "unaccented_cities[:2]"
   ]
  },
  {
   "cell_type": "code",
   "execution_count": 11,
   "metadata": {
    "ExecuteTime": {
     "end_time": "2019-10-10T17:07:26.649062Z",
     "start_time": "2019-10-10T17:07:26.645948Z"
    }
   },
   "outputs": [
    {
     "data": {
      "text/plain": [
       "['South Georgia and the South Sandwich Islands',\n",
       " 'United States Minor Outlying Islands']"
      ]
     },
     "execution_count": 11,
     "metadata": {},
     "output_type": "execute_result"
    }
   ],
   "source": [
    "unaccented_countries = sorted(unaccented_countries, key=lambda x: len(x), reverse=True)\n",
    "unaccented_countries[:2]"
   ]
  },
  {
   "cell_type": "code",
   "execution_count": 12,
   "metadata": {
    "ExecuteTime": {
     "end_time": "2019-10-10T17:07:26.690025Z",
     "start_time": "2019-10-10T17:07:26.686308Z"
    }
   },
   "outputs": [
    {
     "data": {
      "text/plain": [
       "'h (Kreis 4) / Aussersihl\\\\b|\\\\bZurich (Kreis 10) / Wipkingen\\\\b|\\\\bZurich (Kreis 11) / Affoltern\\\\b|\\\\bZurich (Kreis 9) / Altstetten\\\\b|\\\\bHeppenheim an der Bergstrasse\\\\b|\\\\bVilapicina i la Torre Llobeta\\\\b|\\\\bSaint-Maximin-la-Sainte-Baume\\\\b|\\\\bTamuning-Tumon-Harmon Village\\\\b|\\\\bTultitlan de Mariano Escobedo\\\\b|\\\\'"
      ]
     },
     "execution_count": 12,
     "metadata": {},
     "output_type": "execute_result"
    }
   ],
   "source": [
    "city_regex = r'\\b|\\b'.join(unaccented_cities)\n",
    "city_regex[1500:1800]"
   ]
  },
  {
   "cell_type": "code",
   "execution_count": 13,
   "metadata": {
    "ExecuteTime": {
     "end_time": "2019-10-10T17:07:27.442632Z",
     "start_time": "2019-10-10T17:07:26.711042Z"
    }
   },
   "outputs": [
    {
     "name": "stdout",
     "output_type": "stream",
     "text": [
      "More Zika patients reported in Custodia\n",
      "Custodia \n",
      "\n",
      "Tokyo Encounters Severe Symptoms of Meningitis\n",
      "Tokyo \n",
      "\n",
      "Zika Troubles come to Kampong Cham\n",
      "Kampong Cham \n",
      "\n",
      "19 new Zika Cases in Sengkang\n",
      "Sengkang \n",
      "\n",
      "Mumbai's Health Minister warns of more Zika cases\n",
      "Mumbai \n",
      "\n",
      "Varicella re-emerges in Lagos\n",
      "Lagos \n",
      "\n",
      "Mumbai's Health Minister warns of more Zika cases\n",
      "Mumbai \n",
      "\n",
      "Milwaukee authorities confirmed the spread of Rhinovirus\n",
      "Milwaukee \n",
      "\n",
      "Zika cases concern Charlotte residents\n",
      "Charlotte \n",
      "\n",
      "Four cases of Zika in Hidalgo County\n",
      "Hidalgo \n",
      "\n"
     ]
    }
   ],
   "source": [
    "import numpy as np\n",
    "\n",
    "np.random.seed(50)\n",
    "\n",
    "test_headlines = np.random.choice(data, 10)\n",
    "\n",
    "for test_headline in test_headlines:\n",
    "    print(test_headline)\n",
    "    match = re.search(city_regex, test_headline)\n",
    "    if match:\n",
    "        print(match.group(0), \"\\n\")"
   ]
  },
  {
   "cell_type": "code",
   "execution_count": 14,
   "metadata": {
    "ExecuteTime": {
     "end_time": "2019-10-10T17:07:27.446798Z",
     "start_time": "2019-10-10T17:07:27.443789Z"
    }
   },
   "outputs": [
    {
     "data": {
      "text/plain": [
       "'South Georgia and the South Sandwich Islands\\\\b|\\\\bUnited States Minor Outlying Islands\\\\b|\\\\bBonaire, S'"
      ]
     },
     "execution_count": 14,
     "metadata": {},
     "output_type": "execute_result"
    }
   ],
   "source": [
    "country_regex = r\"\\b|\\b\".join(unaccented_countries)\n",
    "country_regex[:100]"
   ]
  },
  {
   "cell_type": "code",
   "execution_count": 15,
   "metadata": {
    "ExecuteTime": {
     "end_time": "2019-10-10T17:07:27.459541Z",
     "start_time": "2019-10-10T17:07:27.448294Z"
    }
   },
   "outputs": [
    {
     "name": "stdout",
     "output_type": "stream",
     "text": [
      "Longwood volunteers spreading Zika awareness\n",
      "More Zika cases in Soyapango\n",
      "Spike of Dengue Cases in Stockholm\n",
      "Case of Measles Reported in Vancouver\n",
      "Zika arrives in Belmopan\n",
      "Outbreak of Zika in Colombo\n",
      "Zika symptoms spotted in Arlington\n",
      "Malaria re-emerges in Boise\n",
      "Southampton Patient in Critical Condition after Contracting Tuberculosis\n",
      "Manassas Encounters Severe Symptoms of Measles\n"
     ]
    }
   ],
   "source": [
    "np.random.seed(100)\n",
    "test_headlines = np.random.choice(data, 10)\n",
    "\n",
    "for test_headline in test_headlines:\n",
    "    print(test_headline)\n",
    "    match = re.search(country_regex, test_headline)\n",
    "    if match:\n",
    "        print(match.group(0), \"\\n\")"
   ]
  },
  {
   "cell_type": "code",
   "execution_count": 16,
   "metadata": {
    "ExecuteTime": {
     "end_time": "2019-10-10T17:07:27.472184Z",
     "start_time": "2019-10-10T17:07:27.461566Z"
    }
   },
   "outputs": [
    {
     "name": "stdout",
     "output_type": "stream",
     "text": [
      "Mystery Virus Spreads in Recife, Brazil\n",
      "Recife\n",
      "Brazil\n"
     ]
    }
   ],
   "source": [
    "test_headline = data[3]\n",
    "print(test_headline)\n",
    "print(re.search(city_regex, test_headline).group(0))\n",
    "print(re.search(country_regex, test_headline).group(0))"
   ]
  },
  {
   "cell_type": "code",
   "execution_count": 17,
   "metadata": {
    "ExecuteTime": {
     "end_time": "2019-10-10T17:07:27.475627Z",
     "start_time": "2019-10-10T17:07:27.473193Z"
    }
   },
   "outputs": [
    {
     "name": "stdout",
     "output_type": "stream",
     "text": [
      "Recife\n",
      "Brazil\n"
     ]
    }
   ],
   "source": [
    "print(city_accent_mapping[\"Recife\"])\n",
    "print(country_accent_mapping[\"Brazil\"])"
   ]
  },
  {
   "cell_type": "markdown",
   "metadata": {},
   "source": [
    "Neither of these have accents. \n",
    "\n",
    "### City and Country Regular Expression Function\n",
    "\n",
    "Let's encapsulate the logic to find city and country names into a function."
   ]
  },
  {
   "cell_type": "code",
   "execution_count": 18,
   "metadata": {
    "ExecuteTime": {
     "end_time": "2019-10-10T17:07:27.480900Z",
     "start_time": "2019-10-10T17:07:27.476878Z"
    }
   },
   "outputs": [],
   "source": [
    "def find_city_and_country_in_headline(headline):\n",
    "    \"\"\"\n",
    "    Find the city(s) and/or country(s) in a text headline.\n",
    "    \n",
    "    :param headline: string for headline\n",
    "    \n",
    "    :return dict: a dictionary mapping the headline to city(s) and/or countries.\n",
    "    \"\"\"\n",
    "    city_match = re.search(city_regex, headline)\n",
    "    country_match = re.search(country_regex, headline)\n",
    "    cities = None if not city_match else city_match.group(0)\n",
    "    countries = None if not country_match else country_match.group(0)\n",
    "    return dict(headline=headline, countries=countries, cities=cities)"
   ]
  },
  {
   "cell_type": "code",
   "execution_count": 19,
   "metadata": {
    "ExecuteTime": {
     "end_time": "2019-10-10T17:07:27.494591Z",
     "start_time": "2019-10-10T17:07:27.482603Z"
    }
   },
   "outputs": [
    {
     "data": {
      "text/plain": [
       "{'headline': 'Mystery Virus Spreads in Recife, Brazil',\n",
       " 'countries': 'Brazil',\n",
       " 'cities': 'Recife'}"
      ]
     },
     "execution_count": 19,
     "metadata": {},
     "output_type": "execute_result"
    }
   ],
   "source": [
    "find_city_and_country_in_headline(data[3])"
   ]
  },
  {
   "cell_type": "code",
   "execution_count": 20,
   "metadata": {
    "ExecuteTime": {
     "end_time": "2019-10-10T17:07:27.506403Z",
     "start_time": "2019-10-10T17:07:27.496933Z"
    }
   },
   "outputs": [
    {
     "data": {
      "text/plain": [
       "{'headline': 'Could Zika Reach New York City?',\n",
       " 'countries': None,\n",
       " 'cities': 'New York City'}"
      ]
     },
     "execution_count": 20,
     "metadata": {},
     "output_type": "execute_result"
    }
   ],
   "source": [
    "find_city_and_country_in_headline(data[1])"
   ]
  },
  {
   "cell_type": "code",
   "execution_count": 21,
   "metadata": {
    "ExecuteTime": {
     "end_time": "2019-10-10T17:07:31.515323Z",
     "start_time": "2019-10-10T17:07:27.508071Z"
    }
   },
   "outputs": [
    {
     "data": {
      "text/plain": [
       "[{'headline': 'Authorities are Worried about the Spread of Varicella in Clovis',\n",
       "  'countries': None,\n",
       "  'cities': 'Clovis'},\n",
       " {'headline': 'More Zika patients reported in Fort Worth',\n",
       "  'countries': None,\n",
       "  'cities': 'Fort Worth'},\n",
       " {'headline': 'Zika symptoms spotted in Boynton Beach',\n",
       "  'countries': None,\n",
       "  'cities': 'Boynton Beach'},\n",
       " {'headline': 'Outbreak of Zika in Portoviejo',\n",
       "  'countries': None,\n",
       "  'cities': 'Portoviejo'},\n",
       " {'headline': 'Influenza Exposure in Muscat',\n",
       "  'countries': None,\n",
       "  'cities': 'Muscat'},\n",
       " {'headline': 'Rumors about Rabies spreading in Jerusalem have been refuted',\n",
       "  'countries': None,\n",
       "  'cities': 'Jerusalem'},\n",
       " {'headline': 'More Zika patients reported in Indang',\n",
       "  'countries': None,\n",
       "  'cities': 'Indang'},\n",
       " {'headline': 'Suva authorities confirmed the spread of Rotavirus',\n",
       "  'countries': None,\n",
       "  'cities': 'Suva'},\n",
       " {'headline': 'More Zika patients reported in Bella Vista',\n",
       "  'countries': None,\n",
       "  'cities': 'Bella Vista'},\n",
       " {'headline': 'Zika Outbreak in Wichita Falls',\n",
       "  'countries': None,\n",
       "  'cities': 'Wichita Falls'}]"
      ]
     },
     "execution_count": 21,
     "metadata": {},
     "output_type": "execute_result"
    }
   ],
   "source": [
    "headline_cities_and_countries = [\n",
    "    find_city_and_country_in_headline(headline) for headline in data\n",
    "]\n",
    "headline_cities_and_countries[-10:]"
   ]
  },
  {
   "cell_type": "code",
   "execution_count": 23,
   "metadata": {
    "ExecuteTime": {
     "end_time": "2019-10-10T17:07:31.522676Z",
     "start_time": "2019-10-10T17:07:31.516911Z"
    }
   },
   "outputs": [],
   "source": [
    "import json\n",
    "\n",
    "save_file = \"headline_cities_and_countries.json\"\n",
    "with open(save_file, \"w\") as fout:\n",
    "    fout.write(json.dumps(headline_cities_and_countries))"
   ]
  },
  {
   "cell_type": "code",
   "execution_count": 24,
   "metadata": {
    "ExecuteTime": {
     "end_time": "2019-10-10T17:07:31.529400Z",
     "start_time": "2019-10-10T17:07:31.524486Z"
    }
   },
   "outputs": [],
   "source": [
    "with open(save_file, \"r\") as fin:\n",
    "    check_data = json.loads(fin.read())"
   ]
  },
  {
   "cell_type": "code",
   "execution_count": 25,
   "metadata": {
    "ExecuteTime": {
     "end_time": "2019-10-10T17:07:31.538403Z",
     "start_time": "2019-10-10T17:07:31.532000Z"
    }
   },
   "outputs": [
    {
     "data": {
      "text/plain": [
       "[{'headline': 'Authorities are Worried about the Spread of Varicella in Clovis',\n",
       "  'countries': None,\n",
       "  'cities': 'Clovis'},\n",
       " {'headline': 'More Zika patients reported in Fort Worth',\n",
       "  'countries': None,\n",
       "  'cities': 'Fort Worth'},\n",
       " {'headline': 'Zika symptoms spotted in Boynton Beach',\n",
       "  'countries': None,\n",
       "  'cities': 'Boynton Beach'},\n",
       " {'headline': 'Outbreak of Zika in Portoviejo',\n",
       "  'countries': None,\n",
       "  'cities': 'Portoviejo'},\n",
       " {'headline': 'Influenza Exposure in Muscat',\n",
       "  'countries': None,\n",
       "  'cities': 'Muscat'},\n",
       " {'headline': 'Rumors about Rabies spreading in Jerusalem have been refuted',\n",
       "  'countries': None,\n",
       "  'cities': 'Jerusalem'},\n",
       " {'headline': 'More Zika patients reported in Indang',\n",
       "  'countries': None,\n",
       "  'cities': 'Indang'},\n",
       " {'headline': 'Suva authorities confirmed the spread of Rotavirus',\n",
       "  'countries': None,\n",
       "  'cities': 'Suva'},\n",
       " {'headline': 'More Zika patients reported in Bella Vista',\n",
       "  'countries': None,\n",
       "  'cities': 'Bella Vista'},\n",
       " {'headline': 'Zika Outbreak in Wichita Falls',\n",
       "  'countries': None,\n",
       "  'cities': 'Wichita Falls'}]"
      ]
     },
     "execution_count": 25,
     "metadata": {},
     "output_type": "execute_result"
    }
   ],
   "source": [
    "check_data[-10:]"
   ]
  },
  {
   "cell_type": "code",
   "execution_count": 26,
   "metadata": {
    "ExecuteTime": {
     "end_time": "2019-10-10T17:07:31.544532Z",
     "start_time": "2019-10-10T17:07:31.540355Z"
    }
   },
   "outputs": [
    {
     "data": {
      "text/plain": [
       "[{'headline': 'Zika Outbreak Hits Miami',\n",
       "  'countries': None,\n",
       "  'cities': 'Miami'},\n",
       " {'headline': 'Could Zika Reach New York City?',\n",
       "  'countries': None,\n",
       "  'cities': 'New York City'},\n",
       " {'headline': 'First Case of Zika in Miami Beach',\n",
       "  'countries': None,\n",
       "  'cities': 'Miami Beach'},\n",
       " {'headline': 'Mystery Virus Spreads in Recife, Brazil',\n",
       "  'countries': 'Brazil',\n",
       "  'cities': 'Recife'},\n",
       " {'headline': 'Dallas man comes down with case of Zika',\n",
       "  'countries': None,\n",
       "  'cities': 'Dallas'}]"
      ]
     },
     "execution_count": 26,
     "metadata": {},
     "output_type": "execute_result"
    }
   ],
   "source": [
    "check_data[:5]"
   ]
  },
  {
   "cell_type": "code",
   "execution_count": 28,
   "metadata": {
    "ExecuteTime": {
     "end_time": "2019-10-10T17:07:31.563936Z",
     "start_time": "2019-10-10T17:07:31.546924Z"
    }
   },
   "outputs": [],
   "source": [
    "with open(\"city_accent_mapping.json\", \"w\") as fout:\n",
    "    fout.write(json.dumps(city_accent_mapping))"
   ]
  },
  {
   "cell_type": "code",
   "execution_count": 29,
   "metadata": {
    "ExecuteTime": {
     "end_time": "2019-10-10T17:07:31.572944Z",
     "start_time": "2019-10-10T17:07:31.565802Z"
    }
   },
   "outputs": [],
   "source": [
    "with open(\"country_accent_mapping.json\", \"w\") as fout:\n",
    "    fout.write(json.dumps(country_accent_mapping))"
   ]
  },
  {
   "cell_type": "code",
   "execution_count": 31,
   "metadata": {
    "ExecuteTime": {
     "end_time": "2019-10-10T17:09:42.932319Z",
     "start_time": "2019-10-10T17:09:42.896098Z"
    }
   },
   "outputs": [
    {
     "data": {
      "text/html": [
       "<div>\n",
       "<style scoped>\n",
       "    .dataframe tbody tr th:only-of-type {\n",
       "        vertical-align: middle;\n",
       "    }\n",
       "\n",
       "    .dataframe tbody tr th {\n",
       "        vertical-align: top;\n",
       "    }\n",
       "\n",
       "    .dataframe thead th {\n",
       "        text-align: right;\n",
       "    }\n",
       "</style>\n",
       "<table border=\"1\" class=\"dataframe\">\n",
       "  <thead>\n",
       "    <tr style=\"text-align: right;\">\n",
       "      <th></th>\n",
       "      <th>headline</th>\n",
       "      <th>countries</th>\n",
       "      <th>cities</th>\n",
       "    </tr>\n",
       "  </thead>\n",
       "  <tbody>\n",
       "    <tr>\n",
       "      <th>0</th>\n",
       "      <td>Zika Outbreak Hits Miami</td>\n",
       "      <td>NaN</td>\n",
       "      <td>Miami</td>\n",
       "    </tr>\n",
       "    <tr>\n",
       "      <th>1</th>\n",
       "      <td>Could Zika Reach New York City?</td>\n",
       "      <td>NaN</td>\n",
       "      <td>New York City</td>\n",
       "    </tr>\n",
       "    <tr>\n",
       "      <th>2</th>\n",
       "      <td>First Case of Zika in Miami Beach</td>\n",
       "      <td>NaN</td>\n",
       "      <td>Miami Beach</td>\n",
       "    </tr>\n",
       "    <tr>\n",
       "      <th>3</th>\n",
       "      <td>Mystery Virus Spreads in Recife, Brazil</td>\n",
       "      <td>Brazil</td>\n",
       "      <td>Recife</td>\n",
       "    </tr>\n",
       "    <tr>\n",
       "      <th>4</th>\n",
       "      <td>Dallas man comes down with case of Zika</td>\n",
       "      <td>NaN</td>\n",
       "      <td>Dallas</td>\n",
       "    </tr>\n",
       "    <tr>\n",
       "      <th>5</th>\n",
       "      <td>Trinidad confirms first Zika case</td>\n",
       "      <td>NaN</td>\n",
       "      <td>Trinidad</td>\n",
       "    </tr>\n",
       "    <tr>\n",
       "      <th>6</th>\n",
       "      <td>Zika Concerns are Spreading in Houston</td>\n",
       "      <td>NaN</td>\n",
       "      <td>Houston</td>\n",
       "    </tr>\n",
       "    <tr>\n",
       "      <th>7</th>\n",
       "      <td>Geneve Scientists Battle to Find Cure</td>\n",
       "      <td>NaN</td>\n",
       "      <td>Geneve</td>\n",
       "    </tr>\n",
       "    <tr>\n",
       "      <th>8</th>\n",
       "      <td>The CDC in Atlanta is Growing Worried</td>\n",
       "      <td>NaN</td>\n",
       "      <td>Atlanta</td>\n",
       "    </tr>\n",
       "    <tr>\n",
       "      <th>9</th>\n",
       "      <td>Zika Infested Monkeys in Sao Paulo</td>\n",
       "      <td>NaN</td>\n",
       "      <td>Sao Paulo</td>\n",
       "    </tr>\n",
       "  </tbody>\n",
       "</table>\n",
       "</div>"
      ],
      "text/plain": [
       "                                  headline countries         cities\n",
       "0                 Zika Outbreak Hits Miami       NaN          Miami\n",
       "1          Could Zika Reach New York City?       NaN  New York City\n",
       "2        First Case of Zika in Miami Beach       NaN    Miami Beach\n",
       "3  Mystery Virus Spreads in Recife, Brazil    Brazil         Recife\n",
       "4  Dallas man comes down with case of Zika       NaN         Dallas\n",
       "5        Trinidad confirms first Zika case       NaN       Trinidad\n",
       "6   Zika Concerns are Spreading in Houston       NaN        Houston\n",
       "7    Geneve Scientists Battle to Find Cure       NaN         Geneve\n",
       "8    The CDC in Atlanta is Growing Worried       NaN        Atlanta\n",
       "9       Zika Infested Monkeys in Sao Paulo       NaN      Sao Paulo"
      ]
     },
     "execution_count": 31,
     "metadata": {},
     "output_type": "execute_result"
    }
   ],
   "source": [
    "import pandas as pd\n",
    "\n",
    "data = pd.read_json(\"headline_cities_and_countries.json\")\n",
    "data = data.replace({None: np.nan})\n",
    "\n",
    "data.head(10)"
   ]
  },
  {
   "cell_type": "code",
   "execution_count": 39,
   "metadata": {},
   "outputs": [],
   "source": [
    "locations = {}\n",
    "for key, value in gc.get_cities().items():\n",
    "    locations[value[\"name\"]] = (value[\"latitude\"], value[\"longitude\"])\n",
    "\n",
    "data['latitude'] = data['cities'].apply(lambda x: locations.get(x, (None, None))[0])\n",
    "data['longitude'] = data['cities'].apply(lambda x: locations.get(x, (None, None))[1])"
   ]
  },
  {
   "cell_type": "code",
   "execution_count": 40,
   "metadata": {},
   "outputs": [
    {
     "data": {
      "text/html": [
       "<div>\n",
       "<style scoped>\n",
       "    .dataframe tbody tr th:only-of-type {\n",
       "        vertical-align: middle;\n",
       "    }\n",
       "\n",
       "    .dataframe tbody tr th {\n",
       "        vertical-align: top;\n",
       "    }\n",
       "\n",
       "    .dataframe thead th {\n",
       "        text-align: right;\n",
       "    }\n",
       "</style>\n",
       "<table border=\"1\" class=\"dataframe\">\n",
       "  <thead>\n",
       "    <tr style=\"text-align: right;\">\n",
       "      <th></th>\n",
       "      <th>headline</th>\n",
       "      <th>countries</th>\n",
       "      <th>cities</th>\n",
       "      <th>latitude</th>\n",
       "      <th>longitude</th>\n",
       "    </tr>\n",
       "  </thead>\n",
       "  <tbody>\n",
       "    <tr>\n",
       "      <th>0</th>\n",
       "      <td>Zika Outbreak Hits Miami</td>\n",
       "      <td>NaN</td>\n",
       "      <td>Miami</td>\n",
       "      <td>25.77427</td>\n",
       "      <td>-80.19366</td>\n",
       "    </tr>\n",
       "    <tr>\n",
       "      <th>1</th>\n",
       "      <td>Could Zika Reach New York City?</td>\n",
       "      <td>NaN</td>\n",
       "      <td>New York City</td>\n",
       "      <td>40.71427</td>\n",
       "      <td>-74.00597</td>\n",
       "    </tr>\n",
       "    <tr>\n",
       "      <th>2</th>\n",
       "      <td>First Case of Zika in Miami Beach</td>\n",
       "      <td>NaN</td>\n",
       "      <td>Miami Beach</td>\n",
       "      <td>25.79065</td>\n",
       "      <td>-80.13005</td>\n",
       "    </tr>\n",
       "    <tr>\n",
       "      <th>3</th>\n",
       "      <td>Mystery Virus Spreads in Recife, Brazil</td>\n",
       "      <td>Brazil</td>\n",
       "      <td>Recife</td>\n",
       "      <td>-8.05389</td>\n",
       "      <td>-34.88111</td>\n",
       "    </tr>\n",
       "    <tr>\n",
       "      <th>4</th>\n",
       "      <td>Dallas man comes down with case of Zika</td>\n",
       "      <td>NaN</td>\n",
       "      <td>Dallas</td>\n",
       "      <td>44.91928</td>\n",
       "      <td>-123.31705</td>\n",
       "    </tr>\n",
       "    <tr>\n",
       "      <th>5</th>\n",
       "      <td>Trinidad confirms first Zika case</td>\n",
       "      <td>NaN</td>\n",
       "      <td>Trinidad</td>\n",
       "      <td>-33.51650</td>\n",
       "      <td>-56.89957</td>\n",
       "    </tr>\n",
       "    <tr>\n",
       "      <th>6</th>\n",
       "      <td>Zika Concerns are Spreading in Houston</td>\n",
       "      <td>NaN</td>\n",
       "      <td>Houston</td>\n",
       "      <td>29.76328</td>\n",
       "      <td>-95.36327</td>\n",
       "    </tr>\n",
       "    <tr>\n",
       "      <th>7</th>\n",
       "      <td>Geneve Scientists Battle to Find Cure</td>\n",
       "      <td>NaN</td>\n",
       "      <td>Geneve</td>\n",
       "      <td>NaN</td>\n",
       "      <td>NaN</td>\n",
       "    </tr>\n",
       "    <tr>\n",
       "      <th>8</th>\n",
       "      <td>The CDC in Atlanta is Growing Worried</td>\n",
       "      <td>NaN</td>\n",
       "      <td>Atlanta</td>\n",
       "      <td>33.74900</td>\n",
       "      <td>-84.38798</td>\n",
       "    </tr>\n",
       "    <tr>\n",
       "      <th>9</th>\n",
       "      <td>Zika Infested Monkeys in Sao Paulo</td>\n",
       "      <td>NaN</td>\n",
       "      <td>Sao Paulo</td>\n",
       "      <td>NaN</td>\n",
       "      <td>NaN</td>\n",
       "    </tr>\n",
       "  </tbody>\n",
       "</table>\n",
       "</div>"
      ],
      "text/plain": [
       "                                  headline countries         cities  latitude  \\\n",
       "0                 Zika Outbreak Hits Miami       NaN          Miami  25.77427   \n",
       "1          Could Zika Reach New York City?       NaN  New York City  40.71427   \n",
       "2        First Case of Zika in Miami Beach       NaN    Miami Beach  25.79065   \n",
       "3  Mystery Virus Spreads in Recife, Brazil    Brazil         Recife  -8.05389   \n",
       "4  Dallas man comes down with case of Zika       NaN         Dallas  44.91928   \n",
       "5        Trinidad confirms first Zika case       NaN       Trinidad -33.51650   \n",
       "6   Zika Concerns are Spreading in Houston       NaN        Houston  29.76328   \n",
       "7    Geneve Scientists Battle to Find Cure       NaN         Geneve       NaN   \n",
       "8    The CDC in Atlanta is Growing Worried       NaN        Atlanta  33.74900   \n",
       "9       Zika Infested Monkeys in Sao Paulo       NaN      Sao Paulo       NaN   \n",
       "\n",
       "   longitude  \n",
       "0  -80.19366  \n",
       "1  -74.00597  \n",
       "2  -80.13005  \n",
       "3  -34.88111  \n",
       "4 -123.31705  \n",
       "5  -56.89957  \n",
       "6  -95.36327  \n",
       "7        NaN  \n",
       "8  -84.38798  \n",
       "9        NaN  "
      ]
     },
     "execution_count": 40,
     "metadata": {},
     "output_type": "execute_result"
    }
   ],
   "source": [
    "data.head(10)"
   ]
  },
  {
   "cell_type": "code",
   "execution_count": 42,
   "metadata": {},
   "outputs": [],
   "source": [
    "country_codes = {}\n",
    "for key, value in gc.get_countries().items():\n",
    "    country_codes[value[\"name\"]] = value[\"iso\"]\n",
    "\n",
    "data['countrycode'] = data['countries'].apply(lambda x: country_codes.get(x, None))"
   ]
  },
  {
   "cell_type": "code",
   "execution_count": 43,
   "metadata": {},
   "outputs": [
    {
     "data": {
      "text/html": [
       "<div>\n",
       "<style scoped>\n",
       "    .dataframe tbody tr th:only-of-type {\n",
       "        vertical-align: middle;\n",
       "    }\n",
       "\n",
       "    .dataframe tbody tr th {\n",
       "        vertical-align: top;\n",
       "    }\n",
       "\n",
       "    .dataframe thead th {\n",
       "        text-align: right;\n",
       "    }\n",
       "</style>\n",
       "<table border=\"1\" class=\"dataframe\">\n",
       "  <thead>\n",
       "    <tr style=\"text-align: right;\">\n",
       "      <th></th>\n",
       "      <th>headline</th>\n",
       "      <th>countries</th>\n",
       "      <th>cities</th>\n",
       "      <th>latitude</th>\n",
       "      <th>longitude</th>\n",
       "      <th>countrycode</th>\n",
       "    </tr>\n",
       "  </thead>\n",
       "  <tbody>\n",
       "    <tr>\n",
       "      <th>0</th>\n",
       "      <td>Zika Outbreak Hits Miami</td>\n",
       "      <td>NaN</td>\n",
       "      <td>Miami</td>\n",
       "      <td>25.77427</td>\n",
       "      <td>-80.19366</td>\n",
       "      <td>None</td>\n",
       "    </tr>\n",
       "    <tr>\n",
       "      <th>1</th>\n",
       "      <td>Could Zika Reach New York City?</td>\n",
       "      <td>NaN</td>\n",
       "      <td>New York City</td>\n",
       "      <td>40.71427</td>\n",
       "      <td>-74.00597</td>\n",
       "      <td>None</td>\n",
       "    </tr>\n",
       "    <tr>\n",
       "      <th>2</th>\n",
       "      <td>First Case of Zika in Miami Beach</td>\n",
       "      <td>NaN</td>\n",
       "      <td>Miami Beach</td>\n",
       "      <td>25.79065</td>\n",
       "      <td>-80.13005</td>\n",
       "      <td>None</td>\n",
       "    </tr>\n",
       "    <tr>\n",
       "      <th>3</th>\n",
       "      <td>Mystery Virus Spreads in Recife, Brazil</td>\n",
       "      <td>Brazil</td>\n",
       "      <td>Recife</td>\n",
       "      <td>-8.05389</td>\n",
       "      <td>-34.88111</td>\n",
       "      <td>BR</td>\n",
       "    </tr>\n",
       "    <tr>\n",
       "      <th>4</th>\n",
       "      <td>Dallas man comes down with case of Zika</td>\n",
       "      <td>NaN</td>\n",
       "      <td>Dallas</td>\n",
       "      <td>44.91928</td>\n",
       "      <td>-123.31705</td>\n",
       "      <td>None</td>\n",
       "    </tr>\n",
       "    <tr>\n",
       "      <th>5</th>\n",
       "      <td>Trinidad confirms first Zika case</td>\n",
       "      <td>NaN</td>\n",
       "      <td>Trinidad</td>\n",
       "      <td>-33.51650</td>\n",
       "      <td>-56.89957</td>\n",
       "      <td>None</td>\n",
       "    </tr>\n",
       "    <tr>\n",
       "      <th>6</th>\n",
       "      <td>Zika Concerns are Spreading in Houston</td>\n",
       "      <td>NaN</td>\n",
       "      <td>Houston</td>\n",
       "      <td>29.76328</td>\n",
       "      <td>-95.36327</td>\n",
       "      <td>None</td>\n",
       "    </tr>\n",
       "    <tr>\n",
       "      <th>7</th>\n",
       "      <td>Geneve Scientists Battle to Find Cure</td>\n",
       "      <td>NaN</td>\n",
       "      <td>Geneve</td>\n",
       "      <td>NaN</td>\n",
       "      <td>NaN</td>\n",
       "      <td>None</td>\n",
       "    </tr>\n",
       "    <tr>\n",
       "      <th>8</th>\n",
       "      <td>The CDC in Atlanta is Growing Worried</td>\n",
       "      <td>NaN</td>\n",
       "      <td>Atlanta</td>\n",
       "      <td>33.74900</td>\n",
       "      <td>-84.38798</td>\n",
       "      <td>None</td>\n",
       "    </tr>\n",
       "    <tr>\n",
       "      <th>9</th>\n",
       "      <td>Zika Infested Monkeys in Sao Paulo</td>\n",
       "      <td>NaN</td>\n",
       "      <td>Sao Paulo</td>\n",
       "      <td>NaN</td>\n",
       "      <td>NaN</td>\n",
       "      <td>None</td>\n",
       "    </tr>\n",
       "  </tbody>\n",
       "</table>\n",
       "</div>"
      ],
      "text/plain": [
       "                                  headline countries         cities  latitude  \\\n",
       "0                 Zika Outbreak Hits Miami       NaN          Miami  25.77427   \n",
       "1          Could Zika Reach New York City?       NaN  New York City  40.71427   \n",
       "2        First Case of Zika in Miami Beach       NaN    Miami Beach  25.79065   \n",
       "3  Mystery Virus Spreads in Recife, Brazil    Brazil         Recife  -8.05389   \n",
       "4  Dallas man comes down with case of Zika       NaN         Dallas  44.91928   \n",
       "5        Trinidad confirms first Zika case       NaN       Trinidad -33.51650   \n",
       "6   Zika Concerns are Spreading in Houston       NaN        Houston  29.76328   \n",
       "7    Geneve Scientists Battle to Find Cure       NaN         Geneve       NaN   \n",
       "8    The CDC in Atlanta is Growing Worried       NaN        Atlanta  33.74900   \n",
       "9       Zika Infested Monkeys in Sao Paulo       NaN      Sao Paulo       NaN   \n",
       "\n",
       "   longitude countrycode  \n",
       "0  -80.19366        None  \n",
       "1  -74.00597        None  \n",
       "2  -80.13005        None  \n",
       "3  -34.88111          BR  \n",
       "4 -123.31705        None  \n",
       "5  -56.89957        None  \n",
       "6  -95.36327        None  \n",
       "7        NaN        None  \n",
       "8  -84.38798        None  \n",
       "9        NaN        None  "
      ]
     },
     "execution_count": 43,
     "metadata": {},
     "output_type": "execute_result"
    }
   ],
   "source": [
    "data.head(10)"
   ]
  },
  {
   "cell_type": "code",
   "execution_count": null,
   "metadata": {},
   "outputs": [],
   "source": []
  }
 ],
 "metadata": {
  "hide_input": false,
  "kernelspec": {
   "display_name": "Python 3",
   "language": "python",
   "name": "python3"
  },
  "language_info": {
   "codemirror_mode": {
    "name": "ipython",
    "version": 3
   },
   "file_extension": ".py",
   "mimetype": "text/x-python",
   "name": "python",
   "nbconvert_exporter": "python",
   "pygments_lexer": "ipython3",
   "version": "3.8.5"
  },
  "toc": {
   "base_numbering": 1,
   "nav_menu": {},
   "number_sections": true,
   "sideBar": true,
   "skip_h1_title": false,
   "title_cell": "Table of Contents",
   "title_sidebar": "Contents",
   "toc_cell": false,
   "toc_position": {},
   "toc_section_display": true,
   "toc_window_display": false
  },
  "varInspector": {
   "cols": {
    "lenName": 16,
    "lenType": 16,
    "lenVar": 40
   },
   "kernels_config": {
    "python": {
     "delete_cmd_postfix": "",
     "delete_cmd_prefix": "del ",
     "library": "var_list.py",
     "varRefreshCmd": "print(var_dic_list())"
    },
    "r": {
     "delete_cmd_postfix": ") ",
     "delete_cmd_prefix": "rm(",
     "library": "var_list.r",
     "varRefreshCmd": "cat(var_dic_list()) "
    }
   },
   "types_to_exclude": [
    "module",
    "function",
    "builtin_function_or_method",
    "instance",
    "_Feature"
   ],
   "window_display": false
  }
 },
 "nbformat": 4,
 "nbformat_minor": 4
}
