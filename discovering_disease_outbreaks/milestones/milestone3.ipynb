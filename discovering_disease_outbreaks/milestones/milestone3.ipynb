{
 "cells": [
  {
   "cell_type": "code",
   "execution_count": 3,
   "metadata": {
    "ExecuteTime": {
     "end_time": "2019-10-10T17:46:27.563434Z",
     "start_time": "2019-10-10T17:46:27.537727Z"
    }
   },
   "outputs": [
    {
     "data": {
      "text/html": [
       "<div>\n",
       "<style scoped>\n",
       "    .dataframe tbody tr th:only-of-type {\n",
       "        vertical-align: middle;\n",
       "    }\n",
       "\n",
       "    .dataframe tbody tr th {\n",
       "        vertical-align: top;\n",
       "    }\n",
       "\n",
       "    .dataframe thead th {\n",
       "        text-align: right;\n",
       "    }\n",
       "</style>\n",
       "<table border=\"1\" class=\"dataframe\">\n",
       "  <thead>\n",
       "    <tr style=\"text-align: right;\">\n",
       "      <th></th>\n",
       "      <th>headline</th>\n",
       "      <th>cities</th>\n",
       "      <th>latitude</th>\n",
       "      <th>longitude</th>\n",
       "      <th>countrycode</th>\n",
       "    </tr>\n",
       "  </thead>\n",
       "  <tbody>\n",
       "    <tr>\n",
       "      <th>0</th>\n",
       "      <td>Zika Outbreak Hits Miami</td>\n",
       "      <td>Miami</td>\n",
       "      <td>25.77427</td>\n",
       "      <td>-80.19366</td>\n",
       "      <td>US</td>\n",
       "    </tr>\n",
       "    <tr>\n",
       "      <th>1</th>\n",
       "      <td>Could Zika Reach New York City?</td>\n",
       "      <td>New York City</td>\n",
       "      <td>40.71427</td>\n",
       "      <td>-74.00597</td>\n",
       "      <td>US</td>\n",
       "    </tr>\n",
       "    <tr>\n",
       "      <th>2</th>\n",
       "      <td>First Case of Zika in Miami Beach</td>\n",
       "      <td>Miami Beach</td>\n",
       "      <td>25.79065</td>\n",
       "      <td>-80.13005</td>\n",
       "      <td>US</td>\n",
       "    </tr>\n",
       "    <tr>\n",
       "      <th>3</th>\n",
       "      <td>Mystery Virus Spreads in Recife, Brazil</td>\n",
       "      <td>Recife</td>\n",
       "      <td>-8.05389</td>\n",
       "      <td>-34.88111</td>\n",
       "      <td>BR</td>\n",
       "    </tr>\n",
       "    <tr>\n",
       "      <th>4</th>\n",
       "      <td>Dallas man comes down with case of Zika</td>\n",
       "      <td>Dallas</td>\n",
       "      <td>32.78306</td>\n",
       "      <td>-96.80667</td>\n",
       "      <td>US</td>\n",
       "    </tr>\n",
       "  </tbody>\n",
       "</table>\n",
       "</div>"
      ],
      "text/plain": [
       "                                  headline         cities  latitude  \\\n",
       "0                 Zika Outbreak Hits Miami          Miami  25.77427   \n",
       "1          Could Zika Reach New York City?  New York City  40.71427   \n",
       "2        First Case of Zika in Miami Beach    Miami Beach  25.79065   \n",
       "3  Mystery Virus Spreads in Recife, Brazil         Recife  -8.05389   \n",
       "4  Dallas man comes down with case of Zika         Dallas  32.78306   \n",
       "\n",
       "   longitude countrycode  \n",
       "0  -80.19366          US  \n",
       "1  -74.00597          US  \n",
       "2  -80.13005          US  \n",
       "3  -34.88111          BR  \n",
       "4  -96.80667          US  "
      ]
     },
     "execution_count": 3,
     "metadata": {},
     "output_type": "execute_result"
    }
   ],
   "source": [
    "import pandas as pd\n",
    "\n",
    "data = pd.read_csv('processed_headlines_locations.csv', index_col=0)\n",
    "data[['headline', 'cities', 'latitude', 'longitude', 'countrycode']].head()"
   ]
  },
  {
   "cell_type": "code",
   "execution_count": 4,
   "metadata": {
    "ExecuteTime": {
     "end_time": "2019-10-10T17:46:27.571583Z",
     "start_time": "2019-10-10T17:46:27.565749Z"
    }
   },
   "outputs": [
    {
     "name": "stdout",
     "output_type": "stream",
     "text": [
      "Missing Values:\n"
     ]
    },
    {
     "data": {
      "text/plain": [
       "headline         0\n",
       "cities           0\n",
       "accented_city    0\n",
       "latitude         0\n",
       "longitude        0\n",
       "countrycode      0\n",
       "pop              0\n",
       "dtype: int64"
      ]
     },
     "execution_count": 4,
     "metadata": {},
     "output_type": "execute_result"
    }
   ],
   "source": [
    "print('Missing Values:')\n",
    "data.isna().sum()"
   ]
  },
  {
   "cell_type": "code",
   "execution_count": 5,
   "metadata": {
    "ExecuteTime": {
     "end_time": "2019-10-10T17:46:27.607180Z",
     "start_time": "2019-10-10T17:46:27.600774Z"
    }
   },
   "outputs": [
    {
     "name": "stdout",
     "output_type": "stream",
     "text": [
      "<class 'pandas.core.frame.DataFrame'>\n",
      "Int64Index: 603 entries, 0 to 646\n",
      "Data columns (total 7 columns):\n",
      " #   Column         Non-Null Count  Dtype  \n",
      "---  ------         --------------  -----  \n",
      " 0   headline       603 non-null    object \n",
      " 1   cities         603 non-null    object \n",
      " 2   accented_city  603 non-null    object \n",
      " 3   latitude       603 non-null    float64\n",
      " 4   longitude      603 non-null    float64\n",
      " 5   countrycode    603 non-null    object \n",
      " 6   pop            603 non-null    float64\n",
      "dtypes: float64(3), object(4)\n",
      "memory usage: 37.7+ KB\n"
     ]
    }
   ],
   "source": [
    "data.info()"
   ]
  },
  {
   "cell_type": "code",
   "execution_count": 6,
   "metadata": {
    "ExecuteTime": {
     "end_time": "2019-10-10T17:46:28.753836Z",
     "start_time": "2019-10-10T17:46:27.691905Z"
    }
   },
   "outputs": [
    {
     "data": {
      "text/plain": [
       "DBSCAN()"
      ]
     },
     "execution_count": 6,
     "metadata": {},
     "output_type": "execute_result"
    }
   ],
   "source": [
    "from sklearn.cluster import DBSCAN\n",
    "\n",
    "# Default sklearn parameters\n",
    "clusterer = DBSCAN()\n",
    "clusterer"
   ]
  },
  {
   "cell_type": "code",
   "execution_count": 7,
   "metadata": {
    "ExecuteTime": {
     "end_time": "2019-10-10T17:46:28.762574Z",
     "start_time": "2019-10-10T17:46:28.757503Z"
    }
   },
   "outputs": [],
   "source": [
    "def cluster_location(clusterer, data, lat_string=\"latitude\", lon_string=\"longitude\"):\n",
    "    \"\"\"\n",
    "    Fit a clustering algorithm on location data.\n",
    "    \"\"\"\n",
    "    features = data[[lat_string, lon_string]].copy()\n",
    "    clusterer.fit(features)\n",
    "    # Assign the cluster labels\n",
    "    data[\"cluster\"] = clusterer.labels_\n",
    "    return data"
   ]
  },
  {
   "cell_type": "code",
   "execution_count": 8,
   "metadata": {
    "ExecuteTime": {
     "end_time": "2019-10-10T17:46:28.783637Z",
     "start_time": "2019-10-10T17:46:28.765509Z"
    }
   },
   "outputs": [
    {
     "data": {
      "text/plain": [
       "-1    476\n",
       " 4     26\n",
       " 1     21\n",
       " 0     19\n",
       " 6     14\n",
       " 3     12\n",
       " 7     10\n",
       " 5      8\n",
       " 9      6\n",
       " 2      6\n",
       " 8      5\n",
       "Name: cluster, dtype: int64"
      ]
     },
     "execution_count": 8,
     "metadata": {},
     "output_type": "execute_result"
    }
   ],
   "source": [
    "data = cluster_location(clusterer, data)\n",
    "data['cluster'].value_counts()"
   ]
  },
  {
   "cell_type": "code",
   "execution_count": 9,
   "metadata": {
    "ExecuteTime": {
     "end_time": "2019-10-10T17:46:28.806223Z",
     "start_time": "2019-10-10T17:46:28.787109Z"
    }
   },
   "outputs": [
    {
     "data": {
      "text/plain": [
       " 0     369\n",
       " 2      59\n",
       " 3      57\n",
       "-1      32\n",
       " 1      21\n",
       " 5      16\n",
       " 8       9\n",
       " 4       9\n",
       " 6       8\n",
       " 11      7\n",
       " 9       6\n",
       " 7       6\n",
       " 10      4\n",
       "Name: cluster, dtype: int64"
      ]
     },
     "execution_count": 9,
     "metadata": {},
     "output_type": "execute_result"
    }
   ],
   "source": [
    "clusterer.eps = 9\n",
    "data = cluster_location(clusterer, data)\n",
    "data['cluster'].value_counts()"
   ]
  },
  {
   "cell_type": "code",
   "execution_count": 10,
   "metadata": {
    "ExecuteTime": {
     "end_time": "2019-10-10T17:46:28.828290Z",
     "start_time": "2019-10-10T17:46:28.809259Z"
    }
   },
   "outputs": [
    {
     "data": {
      "text/plain": [
       " 0     371\n",
       " 4      62\n",
       " 2      59\n",
       " 1      21\n",
       "-1      16\n",
       " 8      16\n",
       " 11      9\n",
       " 10      9\n",
       " 5       9\n",
       " 9       8\n",
       " 12      6\n",
       " 7       6\n",
       " 3       5\n",
       " 13      3\n",
       " 6       3\n",
       "Name: cluster, dtype: int64"
      ]
     },
     "execution_count": 10,
     "metadata": {},
     "output_type": "execute_result"
    }
   ],
   "source": [
    "clusterer.min_samples = 3\n",
    "data = cluster_location(clusterer, data)\n",
    "data['cluster'].value_counts()"
   ]
  },
  {
   "cell_type": "code",
   "execution_count": 11,
   "metadata": {
    "ExecuteTime": {
     "end_time": "2019-10-10T17:46:28.847307Z",
     "start_time": "2019-10-10T17:46:28.831559Z"
    }
   },
   "outputs": [],
   "source": [
    "best_euclidean_clusterer = DBSCAN(\n",
    "    eps=9, min_samples=3, metric=\"euclidean\",\n",
    ")\n",
    "data = cluster_location(best_euclidean_clusterer, data)"
   ]
  },
  {
   "cell_type": "code",
   "execution_count": 12,
   "metadata": {
    "ExecuteTime": {
     "end_time": "2019-10-10T17:46:57.861409Z",
     "start_time": "2019-10-10T17:46:57.857389Z"
    }
   },
   "outputs": [],
   "source": [
    "import numpy as np\n",
    "\n",
    "def great_circle_distance(coord1, coord2, radius=3956):\n",
    "    \"\"\"\n",
    "    Calculates the great circle distance between two coordinates or arrays of coordinates.\n",
    "    \"\"\"\n",
    "    if np.array_equal(coord1, coord2):\n",
    "        return 0.0\n",
    "\n",
    "    # Convert lat/lon to radians\n",
    "    coord1, coord2 = np.radians(coord1), np.radians(coord2)\n",
    "    # Find the difference between the coordinates\n",
    "    delta_x, delta_y = coord2 - coord1\n",
    "    \n",
    "    # Apply Haversin formula\n",
    "    haversin = np.sin(delta_x / 2) ** 2 + np.product(\n",
    "        [np.cos(coord1[0]), np.cos(coord2[0]), np.sin(delta_y / 2) ** 2]\n",
    "    )\n",
    "\n",
    "    # Convert to distance in miles\n",
    "    return 2 * radius * np.arcsin(haversin ** 0.5)"
   ]
  },
  {
   "cell_type": "code",
   "execution_count": 13,
   "metadata": {
    "ExecuteTime": {
     "end_time": "2019-10-10T17:46:57.874151Z",
     "start_time": "2019-10-10T17:46:57.862586Z"
    }
   },
   "outputs": [
    {
     "data": {
      "text/html": [
       "<div>\n",
       "<style scoped>\n",
       "    .dataframe tbody tr th:only-of-type {\n",
       "        vertical-align: middle;\n",
       "    }\n",
       "\n",
       "    .dataframe tbody tr th {\n",
       "        vertical-align: top;\n",
       "    }\n",
       "\n",
       "    .dataframe thead th {\n",
       "        text-align: right;\n",
       "    }\n",
       "</style>\n",
       "<table border=\"1\" class=\"dataframe\">\n",
       "  <thead>\n",
       "    <tr style=\"text-align: right;\">\n",
       "      <th></th>\n",
       "      <th>headline</th>\n",
       "      <th>cities</th>\n",
       "      <th>accented_city</th>\n",
       "      <th>latitude</th>\n",
       "      <th>longitude</th>\n",
       "      <th>countrycode</th>\n",
       "      <th>pop</th>\n",
       "      <th>cluster</th>\n",
       "    </tr>\n",
       "  </thead>\n",
       "  <tbody>\n",
       "    <tr>\n",
       "      <th>0</th>\n",
       "      <td>Zika Outbreak Hits Miami</td>\n",
       "      <td>Miami</td>\n",
       "      <td>Miami</td>\n",
       "      <td>25.77427</td>\n",
       "      <td>-80.19366</td>\n",
       "      <td>US</td>\n",
       "      <td>441003.0</td>\n",
       "      <td>0</td>\n",
       "    </tr>\n",
       "    <tr>\n",
       "      <th>1</th>\n",
       "      <td>Could Zika Reach New York City?</td>\n",
       "      <td>New York City</td>\n",
       "      <td>New York City</td>\n",
       "      <td>40.71427</td>\n",
       "      <td>-74.00597</td>\n",
       "      <td>US</td>\n",
       "      <td>8175133.0</td>\n",
       "      <td>0</td>\n",
       "    </tr>\n",
       "    <tr>\n",
       "      <th>2</th>\n",
       "      <td>First Case of Zika in Miami Beach</td>\n",
       "      <td>Miami Beach</td>\n",
       "      <td>Miami Beach</td>\n",
       "      <td>25.79065</td>\n",
       "      <td>-80.13005</td>\n",
       "      <td>US</td>\n",
       "      <td>92312.0</td>\n",
       "      <td>0</td>\n",
       "    </tr>\n",
       "    <tr>\n",
       "      <th>3</th>\n",
       "      <td>Mystery Virus Spreads in Recife, Brazil</td>\n",
       "      <td>Recife</td>\n",
       "      <td>Recife</td>\n",
       "      <td>-8.05389</td>\n",
       "      <td>-34.88111</td>\n",
       "      <td>BR</td>\n",
       "      <td>1478098.0</td>\n",
       "      <td>1</td>\n",
       "    </tr>\n",
       "    <tr>\n",
       "      <th>4</th>\n",
       "      <td>Dallas man comes down with case of Zika</td>\n",
       "      <td>Dallas</td>\n",
       "      <td>Dallas</td>\n",
       "      <td>32.78306</td>\n",
       "      <td>-96.80667</td>\n",
       "      <td>US</td>\n",
       "      <td>1300092.0</td>\n",
       "      <td>0</td>\n",
       "    </tr>\n",
       "  </tbody>\n",
       "</table>\n",
       "</div>"
      ],
      "text/plain": [
       "                                  headline         cities  accented_city  \\\n",
       "0                 Zika Outbreak Hits Miami          Miami          Miami   \n",
       "1          Could Zika Reach New York City?  New York City  New York City   \n",
       "2        First Case of Zika in Miami Beach    Miami Beach    Miami Beach   \n",
       "3  Mystery Virus Spreads in Recife, Brazil         Recife         Recife   \n",
       "4  Dallas man comes down with case of Zika         Dallas         Dallas   \n",
       "\n",
       "   latitude  longitude countrycode        pop  cluster  \n",
       "0  25.77427  -80.19366          US   441003.0        0  \n",
       "1  40.71427  -74.00597          US  8175133.0        0  \n",
       "2  25.79065  -80.13005          US    92312.0        0  \n",
       "3  -8.05389  -34.88111          BR  1478098.0        1  \n",
       "4  32.78306  -96.80667          US  1300092.0        0  "
      ]
     },
     "execution_count": 13,
     "metadata": {},
     "output_type": "execute_result"
    }
   ],
   "source": [
    "data.head()"
   ]
  },
  {
   "cell_type": "code",
   "execution_count": 14,
   "metadata": {
    "ExecuteTime": {
     "end_time": "2019-10-10T17:46:57.881347Z",
     "start_time": "2019-10-10T17:46:57.875348Z"
    }
   },
   "outputs": [
    {
     "data": {
      "text/plain": [
       "array([   1.14462609, 1031.53567987])"
      ]
     },
     "execution_count": 14,
     "metadata": {},
     "output_type": "execute_result"
    }
   ],
   "source": [
    "coord1 = np.array(\n",
    "    [\n",
    "        [data[\"latitude\"].iloc[0], data[\"latitude\"].iloc[1]],\n",
    "        [data[\"longitude\"].iloc[0], data[\"longitude\"].iloc[1]],\n",
    "    ]\n",
    ")\n",
    "\n",
    "coord2 = np.array(\n",
    "    [\n",
    "        [data[\"latitude\"].iloc[2], data[\"latitude\"].iloc[0]],\n",
    "        [data[\"longitude\"].iloc[2], data[\"longitude\"].iloc[0]],\n",
    "    ]\n",
    ")\n",
    "\n",
    "# Calculate distance between points\n",
    "great_circle_distance(coord1, coord2)"
   ]
  },
  {
   "cell_type": "code",
   "execution_count": 16,
   "metadata": {
    "ExecuteTime": {
     "end_time": "2019-10-10T17:47:00.196434Z",
     "start_time": "2019-10-10T17:46:57.900788Z"
    }
   },
   "outputs": [
    {
     "data": {
      "text/plain": [
       " 0     236\n",
       "-1     132\n",
       " 5      59\n",
       " 2      49\n",
       " 4      16\n",
       " 10     11\n",
       " 6      11\n",
       " 8      10\n",
       " 9       9\n",
       " 11      8\n",
       " 16      8\n",
       " 3       8\n",
       " 7       7\n",
       " 1       6\n",
       " 14      5\n",
       " 12      4\n",
       " 20      4\n",
       " 18      4\n",
       " 13      4\n",
       " 15      4\n",
       " 17      4\n",
       " 19      4\n",
       "Name: cluster, dtype: int64"
      ]
     },
     "execution_count": 16,
     "metadata": {},
     "output_type": "execute_result"
    }
   ],
   "source": [
    "great_circle_clusterer = DBSCAN(\n",
    "    eps=250, min_samples=4, metric=great_circle_distance,\n",
    ")\n",
    "\n",
    "# Cluster using great circle distance\n",
    "data = cluster_location(\n",
    "     great_circle_clusterer, data, lon_string=\"longitude\", lat_string=\"latitude\"\n",
    ")\n",
    "\n",
    "data[\"cluster\"].value_counts()"
   ]
  },
  {
   "cell_type": "code",
   "execution_count": 17,
   "metadata": {
    "ExecuteTime": {
     "end_time": "2019-10-10T17:47:06.820639Z",
     "start_time": "2019-10-10T17:47:06.813694Z"
    }
   },
   "outputs": [],
   "source": [
    "manhattan_clusterer = DBSCAN(\n",
    "    eps=9, min_samples=3, metric=\"manhattan\",\n",
    ")\n",
    "data = cluster_location(manhattan_clusterer, data)"
   ]
  },
  {
   "cell_type": "code",
   "execution_count": 18,
   "metadata": {
    "ExecuteTime": {
     "end_time": "2019-10-10T17:47:13.493941Z",
     "start_time": "2019-10-10T17:47:13.490976Z"
    }
   },
   "outputs": [
    {
     "data": {
      "text/plain": [
       "KMeans()"
      ]
     },
     "execution_count": 18,
     "metadata": {},
     "output_type": "execute_result"
    }
   ],
   "source": [
    "from sklearn.cluster import KMeans\n",
    "\n",
    "kmeans_clusterer = KMeans()\n",
    "kmeans_clusterer"
   ]
  },
  {
   "cell_type": "code",
   "execution_count": 19,
   "metadata": {
    "ExecuteTime": {
     "end_time": "2019-10-10T17:47:13.741191Z",
     "start_time": "2019-10-10T17:47:13.494926Z"
    }
   },
   "outputs": [],
   "source": [
    "inertia_values = []\n",
    "\n",
    "for k in range(1, 11):\n",
    "    inertia_values.append(KMeans(n_clusters=k).fit(data[['latitude', 'longitude']]).inertia_)"
   ]
  },
  {
   "cell_type": "code",
   "execution_count": 22,
   "metadata": {
    "ExecuteTime": {
     "end_time": "2019-10-10T17:47:41.550738Z",
     "start_time": "2019-10-10T17:47:41.417447Z"
    }
   },
   "outputs": [
    {
     "data": {
      "image/png": "[encoded data removed]",
      "text/plain": [
       "<Figure size 432x288 with 1 Axes>"
      ]
     },
     "metadata": {
      "needs_background": "light"
     },
     "output_type": "display_data"
    }
   ],
   "source": [
    "_ = data['cluster'].value_counts().plot.bar(title='Cluster Distribution')"
   ]
  },
  {
   "cell_type": "code",
   "execution_count": 23,
   "metadata": {
    "ExecuteTime": {
     "end_time": "2019-10-10T17:47:41.557388Z",
     "start_time": "2019-10-10T17:47:41.551701Z"
    }
   },
   "outputs": [
    {
     "data": {
      "text/plain": [
       "cluster\n",
       "0    303\n",
       "Name: cluster, dtype: int64"
      ]
     },
     "execution_count": 23,
     "metadata": {},
     "output_type": "execute_result"
    }
   ],
   "source": [
    "data.groupby('countrycode')['cluster'].value_counts()['US']"
   ]
  },
  {
   "cell_type": "code",
   "execution_count": 24,
   "metadata": {
    "ExecuteTime": {
     "end_time": "2019-10-10T17:47:41.568236Z",
     "start_time": "2019-10-10T17:47:41.558453Z"
    }
   },
   "outputs": [],
   "source": [
    "data.to_csv('processed_headlines_clustered.csv')"
   ]
  },
  {
   "cell_type": "code",
   "execution_count": 26,
   "metadata": {
    "ExecuteTime": {
     "end_time": "2019-10-10T17:47:41.578517Z",
     "start_time": "2019-10-10T17:47:41.569550Z"
    }
   },
   "outputs": [
    {
     "data": {
      "text/html": [
       "<div>\n",
       "<style scoped>\n",
       "    .dataframe tbody tr th:only-of-type {\n",
       "        vertical-align: middle;\n",
       "    }\n",
       "\n",
       "    .dataframe tbody tr th {\n",
       "        vertical-align: top;\n",
       "    }\n",
       "\n",
       "    .dataframe thead th {\n",
       "        text-align: right;\n",
       "    }\n",
       "</style>\n",
       "<table border=\"1\" class=\"dataframe\">\n",
       "  <thead>\n",
       "    <tr style=\"text-align: right;\">\n",
       "      <th></th>\n",
       "      <th>headline</th>\n",
       "      <th>cities</th>\n",
       "      <th>latitude</th>\n",
       "      <th>longitude</th>\n",
       "      <th>countrycode</th>\n",
       "      <th>cluster</th>\n",
       "    </tr>\n",
       "  </thead>\n",
       "  <tbody>\n",
       "    <tr>\n",
       "      <th>0</th>\n",
       "      <td>Zika Outbreak Hits Miami</td>\n",
       "      <td>Miami</td>\n",
       "      <td>25.77427</td>\n",
       "      <td>-80.19366</td>\n",
       "      <td>US</td>\n",
       "      <td>0</td>\n",
       "    </tr>\n",
       "    <tr>\n",
       "      <th>1</th>\n",
       "      <td>Could Zika Reach New York City?</td>\n",
       "      <td>New York City</td>\n",
       "      <td>40.71427</td>\n",
       "      <td>-74.00597</td>\n",
       "      <td>US</td>\n",
       "      <td>0</td>\n",
       "    </tr>\n",
       "    <tr>\n",
       "      <th>2</th>\n",
       "      <td>First Case of Zika in Miami Beach</td>\n",
       "      <td>Miami Beach</td>\n",
       "      <td>25.79065</td>\n",
       "      <td>-80.13005</td>\n",
       "      <td>US</td>\n",
       "      <td>0</td>\n",
       "    </tr>\n",
       "    <tr>\n",
       "      <th>3</th>\n",
       "      <td>Mystery Virus Spreads in Recife, Brazil</td>\n",
       "      <td>Recife</td>\n",
       "      <td>-8.05389</td>\n",
       "      <td>-34.88111</td>\n",
       "      <td>BR</td>\n",
       "      <td>2</td>\n",
       "    </tr>\n",
       "    <tr>\n",
       "      <th>4</th>\n",
       "      <td>Dallas man comes down with case of Zika</td>\n",
       "      <td>Dallas</td>\n",
       "      <td>32.78306</td>\n",
       "      <td>-96.80667</td>\n",
       "      <td>US</td>\n",
       "      <td>0</td>\n",
       "    </tr>\n",
       "    <tr>\n",
       "      <th>5</th>\n",
       "      <td>Trinidad confirms first Zika case</td>\n",
       "      <td>Trinidad</td>\n",
       "      <td>-14.83333</td>\n",
       "      <td>-64.90000</td>\n",
       "      <td>BO</td>\n",
       "      <td>0</td>\n",
       "    </tr>\n",
       "    <tr>\n",
       "      <th>6</th>\n",
       "      <td>Zika Concerns are Spreading in Houston</td>\n",
       "      <td>Houston</td>\n",
       "      <td>29.76328</td>\n",
       "      <td>-95.36327</td>\n",
       "      <td>US</td>\n",
       "      <td>0</td>\n",
       "    </tr>\n",
       "    <tr>\n",
       "      <th>7</th>\n",
       "      <td>Geneve Scientists Battle to Find Cure</td>\n",
       "      <td>Geneve</td>\n",
       "      <td>46.20222</td>\n",
       "      <td>6.14569</td>\n",
       "      <td>CH</td>\n",
       "      <td>2</td>\n",
       "    </tr>\n",
       "    <tr>\n",
       "      <th>8</th>\n",
       "      <td>The CDC in Atlanta is Growing Worried</td>\n",
       "      <td>Atlanta</td>\n",
       "      <td>33.74900</td>\n",
       "      <td>-84.38798</td>\n",
       "      <td>US</td>\n",
       "      <td>0</td>\n",
       "    </tr>\n",
       "    <tr>\n",
       "      <th>9</th>\n",
       "      <td>Zika Infested Monkeys in Sao Paulo</td>\n",
       "      <td>Sao Paulo</td>\n",
       "      <td>-23.54750</td>\n",
       "      <td>-46.63611</td>\n",
       "      <td>BR</td>\n",
       "      <td>0</td>\n",
       "    </tr>\n",
       "  </tbody>\n",
       "</table>\n",
       "</div>"
      ],
      "text/plain": [
       "                                  headline         cities  latitude  \\\n",
       "0                 Zika Outbreak Hits Miami          Miami  25.77427   \n",
       "1          Could Zika Reach New York City?  New York City  40.71427   \n",
       "2        First Case of Zika in Miami Beach    Miami Beach  25.79065   \n",
       "3  Mystery Virus Spreads in Recife, Brazil         Recife  -8.05389   \n",
       "4  Dallas man comes down with case of Zika         Dallas  32.78306   \n",
       "5        Trinidad confirms first Zika case       Trinidad -14.83333   \n",
       "6   Zika Concerns are Spreading in Houston        Houston  29.76328   \n",
       "7    Geneve Scientists Battle to Find Cure         Geneve  46.20222   \n",
       "8    The CDC in Atlanta is Growing Worried        Atlanta  33.74900   \n",
       "9       Zika Infested Monkeys in Sao Paulo      Sao Paulo -23.54750   \n",
       "\n",
       "   longitude countrycode  cluster  \n",
       "0  -80.19366          US        0  \n",
       "1  -74.00597          US        0  \n",
       "2  -80.13005          US        0  \n",
       "3  -34.88111          BR        2  \n",
       "4  -96.80667          US        0  \n",
       "5  -64.90000          BO        0  \n",
       "6  -95.36327          US        0  \n",
       "7    6.14569          CH        2  \n",
       "8  -84.38798          US        0  \n",
       "9  -46.63611          BR        0  "
      ]
     },
     "execution_count": 26,
     "metadata": {},
     "output_type": "execute_result"
    }
   ],
   "source": [
    "data[['headline', 'cities', 'latitude', 'longitude', 'countrycode', 'cluster']].head(10)"
   ]
  },
  {
   "cell_type": "code",
   "execution_count": 27,
   "metadata": {
    "ExecuteTime": {
     "end_time": "2019-10-10T17:50:20.227145Z",
     "start_time": "2019-10-10T17:50:20.218834Z"
    }
   },
   "outputs": [],
   "source": [
    "data[['headline', 'cities', 'latitude', 'longitude', 'countrycode', 'cluster']].to_csv('clustered_data.csv')"
   ]
  },
  {
   "cell_type": "code",
   "execution_count": null,
   "metadata": {},
   "outputs": [],
   "source": []
  }
 ],
 "metadata": {
  "hide_input": false,
  "kernelspec": {
   "display_name": "Python 3",
   "language": "python",
   "name": "python3"
  },
  "language_info": {
   "codemirror_mode": {
    "name": "ipython",
    "version": 3
   },
   "file_extension": ".py",
   "mimetype": "text/x-python",
   "name": "python",
   "nbconvert_exporter": "python",
   "pygments_lexer": "ipython3",
   "version": "3.8.5"
  },
  "toc": {
   "base_numbering": 1,
   "nav_menu": {},
   "number_sections": true,
   "sideBar": true,
   "skip_h1_title": false,
   "title_cell": "Table of Contents",
   "title_sidebar": "Contents",
   "toc_cell": false,
   "toc_position": {},
   "toc_section_display": true,
   "toc_window_display": false
  },
  "varInspector": {
   "cols": {
    "lenName": 16,
    "lenType": 16,
    "lenVar": 40
   },
   "kernels_config": {
    "python": {
     "delete_cmd_postfix": "",
     "delete_cmd_prefix": "del ",
     "library": "var_list.py",
     "varRefreshCmd": "print(var_dic_list())"
    },
    "r": {
     "delete_cmd_postfix": ") ",
     "delete_cmd_prefix": "rm(",
     "library": "var_list.r",
     "varRefreshCmd": "cat(var_dic_list()) "
    }
   },
   "types_to_exclude": [
    "module",
    "function",
    "builtin_function_or_method",
    "instance",
    "_Feature"
   ],
   "window_display": false
  }
 },
 "nbformat": 4,
 "nbformat_minor": 4
}
