{
 "cells": [
  {
   "cell_type": "code",
   "execution_count": null,
   "outputs": [],
   "source": [
    "import pandas as pd\n",
    "\n",
    "data = pd.read_csv('processed_headlines_locations.csv', index_col=0)\n",
    "data[['headline', 'cities', 'latitude', 'longitude', 'countrycode']].head()"
   ],
   "metadata": {
    "collapsed": false,
    "pycharm": {
     "name": "#%%\n"
    }
   }
  },
  {
   "cell_type": "code",
   "execution_count": null,
   "outputs": [],
   "source": [
    "print('Missing Values:')\n",
    "data.isna().sum()"
   ],
   "metadata": {
    "collapsed": false,
    "pycharm": {
     "name": "#%%\n"
    }
   }
  },
  {
   "cell_type": "code",
   "execution_count": null,
   "outputs": [],
   "source": [
    "data.info()"
   ],
   "metadata": {
    "collapsed": false,
    "pycharm": {
     "name": "#%%\n"
    }
   }
  },
  {
   "cell_type": "code",
   "execution_count": null,
   "outputs": [],
   "source": [
    "from sklearn.cluster import DBSCAN\n",
    "\n",
    "# Default sklearn parameters\n",
    "clusterer = DBSCAN()\n",
    "clusterer"
   ],
   "metadata": {
    "collapsed": false,
    "pycharm": {
     "name": "#%%\n"
    }
   }
  },
  {
   "cell_type": "code",
   "execution_count": null,
   "outputs": [],
   "source": [
    "def cluster_location(clusterer, data, lat_string=\"latitude\", lon_string=\"longitude\"):\n",
    "    \"\"\"\n",
    "    Fit a clustering algorithm on location data.\n",
    "    \"\"\"\n",
    "    features = data[[lat_string, lon_string]].copy()\n",
    "    clusterer.fit(features)\n",
    "    # Assign the cluster labels\n",
    "    data[\"cluster\"] = clusterer.labels_\n",
    "    return data"
   ],
   "metadata": {
    "collapsed": false,
    "pycharm": {
     "name": "#%%\n"
    }
   }
  },
  {
   "cell_type": "code",
   "execution_count": null,
   "outputs": [],
   "source": [
    "data = cluster_location(clusterer, data)\n",
    "data['cluster'].value_counts()"
   ],
   "metadata": {
    "collapsed": false,
    "pycharm": {
     "name": "#%%\n"
    }
   }
  },
  {
   "cell_type": "code",
   "execution_count": null,
   "outputs": [],
   "source": [
    "clusterer.eps = 9\n",
    "data = cluster_location(clusterer, data)\n",
    "data['cluster'].value_counts()"
   ],
   "metadata": {
    "collapsed": false,
    "pycharm": {
     "name": "#%%\n"
    }
   }
  },
  {
   "cell_type": "code",
   "execution_count": null,
   "outputs": [],
   "source": [
    "clusterer.min_samples = 3\n",
    "data = cluster_location(clusterer, data)\n",
    "data['cluster'].value_counts()"
   ],
   "metadata": {
    "collapsed": false,
    "pycharm": {
     "name": "#%%\n"
    }
   }
  },
  {
   "cell_type": "code",
   "execution_count": null,
   "outputs": [],
   "source": [
    "best_euclidean_clusterer = DBSCAN(\n",
    "    eps=9, min_samples=3, metric=\"euclidean\",\n",
    ")\n",
    "data = cluster_location(best_euclidean_clusterer, data)"
   ],
   "metadata": {
    "collapsed": false,
    "pycharm": {
     "name": "#%%\n"
    }
   }
  },
  {
   "cell_type": "code",
   "execution_count": null,
   "outputs": [],
   "source": [
    "import numpy as np\n",
    "\n",
    "def great_circle_distance(coord1, coord2, radius=3956):\n",
    "    \"\"\"\n",
    "    Calculates the great circle distance between two coordinates or arrays of coordinates.\n",
    "    \"\"\"\n",
    "    if np.array_equal(coord1, coord2):\n",
    "        return 0.0\n",
    "\n",
    "    # Convert lat/lon to radians\n",
    "    coord1, coord2 = np.radians(coord1), np.radians(coord2)\n",
    "    # Find the difference between the coordinates\n",
    "    delta_x, delta_y = coord2 - coord1\n",
    "    \n",
    "    # Apply Haversin formula\n",
    "    haversin = np.sin(delta_x / 2) ** 2 + np.product(\n",
    "        [np.cos(coord1[0]), np.cos(coord2[0]), np.sin(delta_y / 2) ** 2]\n",
    "    )\n",
    "\n",
    "    # Convert to distance in miles\n",
    "    return 2 * radius * np.arcsin(haversin ** 0.5)"
   ],
   "metadata": {
    "collapsed": false,
    "pycharm": {
     "name": "#%%\n"
    }
   }
  },
  {
   "cell_type": "code",
   "execution_count": null,
   "outputs": [],
   "source": [
    "data.head()"
   ],
   "metadata": {
    "collapsed": false,
    "pycharm": {
     "name": "#%%\n"
    }
   }
  },
  {
   "cell_type": "code",
   "execution_count": null,
   "outputs": [],
   "source": [
    "coord1 = np.array(\n",
    "    [\n",
    "        [data[\"latitude\"].iloc[0], data[\"latitude\"].iloc[1]],\n",
    "        [data[\"longitude\"].iloc[0], data[\"longitude\"].iloc[1]],\n",
    "    ]\n",
    ")\n",
    "\n",
    "coord2 = np.array(\n",
    "    [\n",
    "        [data[\"latitude\"].iloc[2], data[\"latitude\"].iloc[0]],\n",
    "        [data[\"longitude\"].iloc[2], data[\"longitude\"].iloc[0]],\n",
    "    ]\n",
    ")\n",
    "\n",
    "# Calculate distance between points\n",
    "great_circle_distance(coord1, coord2)"
   ],
   "metadata": {
    "collapsed": false,
    "pycharm": {
     "name": "#%%\n"
    }
   }
  },
  {
   "cell_type": "code",
   "execution_count": null,
   "outputs": [],
   "source": [
    "great_circle_clusterer = DBSCAN(\n",
    "    eps=250, min_samples=4, metric=great_circle_distance,\n",
    ")\n",
    "\n",
    "# Cluster using great circle distance\n",
    "data = cluster_location(\n",
    "     great_circle_clusterer, data, lon_string=\"longitude\", lat_string=\"latitude\"\n",
    ")\n",
    "\n",
    "data[\"cluster\"].value_counts()"
   ],
   "metadata": {
    "collapsed": false,
    "pycharm": {
     "name": "#%%\n"
    }
   }
  },
  {
   "cell_type": "code",
   "execution_count": null,
   "outputs": [],
   "source": [
    "manhattan_clusterer = DBSCAN(\n",
    "    eps=9, min_samples=3, metric=\"manhattan\",\n",
    ")\n",
    "data = cluster_location(manhattan_clusterer, data)"
   ],
   "metadata": {
    "collapsed": false,
    "pycharm": {
     "name": "#%%\n"
    }
   }
  },
  {
   "cell_type": "code",
   "execution_count": null,
   "outputs": [],
   "source": [
    "from sklearn.cluster import KMeans\n",
    "\n",
    "kmeans_clusterer = KMeans()\n",
    "kmeans_clusterer"
   ],
   "metadata": {
    "collapsed": false,
    "pycharm": {
     "name": "#%%\n"
    }
   }
  },
  {
   "cell_type": "code",
   "execution_count": null,
   "outputs": [],
   "source": [
    "inertia_values = []\n",
    "\n",
    "for k in range(1, 11):\n",
    "    inertia_values.append(KMeans(n_clusters=k).fit(data[['latitude', 'longitude']]).inertia_)"
   ],
   "metadata": {
    "collapsed": false,
    "pycharm": {
     "name": "#%%\n"
    }
   }
  },
  {
   "cell_type": "code",
   "execution_count": null,
   "outputs": [],
   "source": [
    "_ = data['cluster'].value_counts().plot.bar(title='Cluster Distribution')"
   ],
   "metadata": {
    "collapsed": false,
    "pycharm": {
     "name": "#%%\n"
    }
   }
  },
  {
   "cell_type": "code",
   "execution_count": null,
   "outputs": [],
   "source": [
    "data.groupby('countrycode')['cluster'].value_counts()['US']"
   ],
   "metadata": {
    "collapsed": false,
    "pycharm": {
     "name": "#%%\n"
    }
   }
  },
  {
   "cell_type": "code",
   "execution_count": null,
   "outputs": [],
   "source": [
    "data.to_csv('processed_headlines_clustered.csv')"
   ],
   "metadata": {
    "collapsed": false,
    "pycharm": {
     "name": "#%%\n"
    }
   }
  },
  {
   "cell_type": "code",
   "execution_count": null,
   "outputs": [],
   "source": [
    "data[['headline', 'cities', 'latitude', 'longitude', 'countrycode', 'cluster']].head(10)"
   ],
   "metadata": {
    "collapsed": false,
    "pycharm": {
     "name": "#%%\n"
    }
   }
  },
  {
   "cell_type": "code",
   "execution_count": null,
   "outputs": [],
   "source": [
    "data[['headline', 'cities', 'latitude', 'longitude', 'countrycode', 'cluster']].to_csv('clustered_data.csv')"
   ],
   "metadata": {
    "collapsed": false,
    "pycharm": {
     "name": "#%%\n"
    }
   }
  },
  {
   "cell_type": "code",
   "execution_count": null,
   "outputs": [],
   "source": [],
   "metadata": {
    "collapsed": false,
    "pycharm": {
     "name": "#%%\n"
    }
   }
  }
 ],
 "metadata": {
  "hide_input": false,
  "kernelspec": {
   "display_name": "Python 3",
   "language": "python",
   "name": "python3"
  },
  "language_info": {
   "codemirror_mode": {
    "name": "ipython",
    "version": 3
   },
   "file_extension": ".py",
   "mimetype": "text/x-python",
   "name": "python",
   "nbconvert_exporter": "python",
   "pygments_lexer": "ipython3",
   "version": "3.8.5"
  },
  "toc": {
   "base_numbering": 1,
   "nav_menu": {},
   "number_sections": true,
   "sideBar": true,
   "skip_h1_title": false,
   "title_cell": "Table of Contents",
   "title_sidebar": "Contents",
   "toc_cell": false,
   "toc_position": {},
   "toc_section_display": true,
   "toc_window_display": false
  },
  "varInspector": {
   "cols": {
    "lenName": 16,
    "lenType": 16,
    "lenVar": 40
   },
   "kernels_config": {
    "python": {
     "delete_cmd_postfix": "",
     "delete_cmd_prefix": "del ",
     "library": "var_list.py",
     "varRefreshCmd": "print(var_dic_list())"
    },
    "r": {
     "delete_cmd_postfix": ") ",
     "delete_cmd_prefix": "rm(",
     "library": "var_list.r",
     "varRefreshCmd": "cat(var_dic_list()) "
    }
   },
   "types_to_exclude": [
    "module",
    "function",
    "builtin_function_or_method",
    "instance",
    "_Feature"
   ],
   "window_display": false
  }
 },
 "nbformat": 4,
 "nbformat_minor": 4
}