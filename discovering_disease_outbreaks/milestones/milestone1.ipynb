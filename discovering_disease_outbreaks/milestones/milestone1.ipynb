{
 "cells": [
  {
   "cell_type": "code",
   "execution_count": 1,
   "metadata": {},
   "outputs": [],
   "source": [
    "import re"
   ]
  },
  {
   "cell_type": "code",
   "execution_count": 17,
   "metadata": {},
   "outputs": [],
   "source": [
    "import pandas as pd\n",
    "import geonamescache"
   ]
  },
  {
   "cell_type": "code",
   "execution_count": 18,
   "metadata": {},
   "outputs": [],
   "source": [
    "gc = geonamescache.GeonamesCache()"
   ]
  },
  {
   "cell_type": "code",
   "execution_count": 8,
   "metadata": {},
   "outputs": [],
   "source": [
    "df = pd.read_csv('./headlines.txt', names=['headline'])"
   ]
  },
  {
   "cell_type": "code",
   "execution_count": 13,
   "metadata": {},
   "outputs": [
    {
     "data": {
      "text/html": [
       "<div>\n",
       "<style scoped>\n",
       "    .dataframe tbody tr th:only-of-type {\n",
       "        vertical-align: middle;\n",
       "    }\n",
       "\n",
       "    .dataframe tbody tr th {\n",
       "        vertical-align: top;\n",
       "    }\n",
       "\n",
       "    .dataframe thead th {\n",
       "        text-align: right;\n",
       "    }\n",
       "</style>\n",
       "<table border=\"1\" class=\"dataframe\">\n",
       "  <thead>\n",
       "    <tr style=\"text-align: right;\">\n",
       "      <th></th>\n",
       "      <th>headline</th>\n",
       "    </tr>\n",
       "  </thead>\n",
       "  <tbody>\n",
       "    <tr>\n",
       "      <th>0</th>\n",
       "      <td>Zika Outbreak Hits Miami</td>\n",
       "    </tr>\n",
       "    <tr>\n",
       "      <th>1</th>\n",
       "      <td>Could Zika Reach New York City?</td>\n",
       "    </tr>\n",
       "    <tr>\n",
       "      <th>2</th>\n",
       "      <td>First Case of Zika in Miami Beach</td>\n",
       "    </tr>\n",
       "    <tr>\n",
       "      <th>3</th>\n",
       "      <td>Mystery Virus Spreads in Recife</td>\n",
       "    </tr>\n",
       "    <tr>\n",
       "      <th>4</th>\n",
       "      <td>Dallas man comes down with case of Zika</td>\n",
       "    </tr>\n",
       "    <tr>\n",
       "      <th>5</th>\n",
       "      <td>Trinidad confirms first Zika case</td>\n",
       "    </tr>\n",
       "    <tr>\n",
       "      <th>6</th>\n",
       "      <td>Zika Concerns are Spreading in Houston</td>\n",
       "    </tr>\n",
       "    <tr>\n",
       "      <th>7</th>\n",
       "      <td>Geneve Scientists Battle to Find Cure</td>\n",
       "    </tr>\n",
       "    <tr>\n",
       "      <th>8</th>\n",
       "      <td>The CDC in Atlanta is Growing Worried</td>\n",
       "    </tr>\n",
       "    <tr>\n",
       "      <th>9</th>\n",
       "      <td>Zika Infested Monkeys in Sao Paulo</td>\n",
       "    </tr>\n",
       "  </tbody>\n",
       "</table>\n",
       "</div>"
      ],
      "text/plain": [
       "                                  headline\n",
       "0                 Zika Outbreak Hits Miami\n",
       "1          Could Zika Reach New York City?\n",
       "2        First Case of Zika in Miami Beach\n",
       "3          Mystery Virus Spreads in Recife\n",
       "4  Dallas man comes down with case of Zika\n",
       "5        Trinidad confirms first Zika case\n",
       "6   Zika Concerns are Spreading in Houston\n",
       "7    Geneve Scientists Battle to Find Cure\n",
       "8    The CDC in Atlanta is Growing Worried\n",
       "9       Zika Infested Monkeys in Sao Paulo"
      ]
     },
     "execution_count": 13,
     "metadata": {},
     "output_type": "execute_result"
    }
   ],
   "source": [
    "df.head(10)"
   ]
  },
  {
   "cell_type": "code",
   "execution_count": 15,
   "metadata": {},
   "outputs": [],
   "source": [
    "from operator import itemgetter\n",
    "\n",
    "def extract_names(text, d):\n",
    "    for exp, name in sorted(d.items(), key=itemgetter(1)):\n",
    "        if exp.search(text):\n",
    "            return name"
   ]
  },
  {
   "cell_type": "code",
   "execution_count": 20,
   "metadata": {},
   "outputs": [],
   "source": [
    "# process countries\n",
    "countries = [country['name'] for country in gc.get_countries().values()]\n",
    "\n",
    "re_countries = {\n",
    "    re.compile(fr'\\b{country}\\b', re.IGNORECASE): country \n",
    "    for country in countries\n",
    "}\n",
    "\n",
    "df['countries'] = df['headline'].apply(lambda x: extract_names(x, re_countries))"
   ]
  },
  {
   "cell_type": "code",
   "execution_count": 23,
   "metadata": {},
   "outputs": [],
   "source": [
    "# process cities\n",
    "cities = [city['name'] for city in gc.get_cities().values()]\n",
    "\n",
    "re_cities = {\n",
    "    re.compile(fr'\\b{city}\\b', re.IGNORECASE): city \n",
    "    for city in cities\n",
    "}\n",
    "\n",
    "df['cities'] = df['headline'].apply(lambda x: extract_names(x, re_cities))"
   ]
  },
  {
   "cell_type": "code",
   "execution_count": 28,
   "metadata": {},
   "outputs": [
    {
     "name": "stdout",
     "output_type": "stream",
     "text": [
      "                                             headline countries         cities\n",
      "0                            Zika Outbreak Hits Miami      None          Miami\n",
      "1                     Could Zika Reach New York City?      None  New York City\n",
      "2                   First Case of Zika in Miami Beach      None          Miami\n",
      "3                     Mystery Virus Spreads in Recife      None         Recife\n",
      "4             Dallas man comes down with case of Zika      None         Dallas\n",
      "5                   Trinidad confirms first Zika case      None       Trinidad\n",
      "6              Zika Concerns are Spreading in Houston      None        Houston\n",
      "7               Geneve Scientists Battle to Find Cure      None           None\n",
      "8               The CDC in Atlanta is Growing Worried      None        Atlanta\n",
      "9                  Zika Infested Monkeys in Sao Paulo      None           None\n",
      "10              Brownsville teen contracts Zika virus      None    Brownsville\n",
      "11  Mosquito control efforts in St. Louis take new...      None      St. Louis\n",
      "12  San Juan reports 1st U.S. Zika-related death a...      None            San\n",
      "13                          Flu outbreak in Galveston      None      Galveston\n",
      "14                 Zika alert – Manila now threatened      None         Manila\n",
      "15                     Zika afflicts 7 in Iloilo City      None         Iloilo\n",
      "16               New Los Angeles Hairstyle goes Viral      None           Goes\n",
      "17                      Louisiana Zika cases up to 26      None           None\n",
      "18               Orlando volunteers aid Zika research      None        Orlando\n",
      "19                Zika infects pregnant woman in Cebu      None           None\n",
      "20                Chicago's First Zika Case Confirmed      None        Chicago\n",
      "21              Tampa Bay Area Zika Case Count Climbs      None            Bay\n",
      "22               Bad Water Leads to Sickness in Flint      None          Flint\n",
      "23                     Baltimore plans for Zika virus      None      Baltimore\n",
      "24          London Health Unit Tracks Mad Cow Disease      None         London\n",
      "25     Zika cases in Vietnam's Ho Chi Minh City surge   Vietnam             Ho\n",
      "26                Philadelphia experts track pandemic      None   Philadelphia\n",
      "27                             Flu season hits Boston      None         Boston\n",
      "28            Scientists in Paris to look for answers      None          Paris\n",
      "29           Key Zika Findings in San Diego Institute      None            San\n"
     ]
    }
   ],
   "source": [
    "print(df.head(30))"
   ]
  },
  {
   "cell_type": "code",
   "execution_count": 29,
   "metadata": {},
   "outputs": [
    {
     "data": {
      "text/html": [
       "<div>\n",
       "<style scoped>\n",
       "    .dataframe tbody tr th:only-of-type {\n",
       "        vertical-align: middle;\n",
       "    }\n",
       "\n",
       "    .dataframe tbody tr th {\n",
       "        vertical-align: top;\n",
       "    }\n",
       "\n",
       "    .dataframe thead th {\n",
       "        text-align: right;\n",
       "    }\n",
       "</style>\n",
       "<table border=\"1\" class=\"dataframe\">\n",
       "  <thead>\n",
       "    <tr style=\"text-align: right;\">\n",
       "      <th></th>\n",
       "      <th>cities</th>\n",
       "      <th>countries</th>\n",
       "    </tr>\n",
       "  </thead>\n",
       "  <tbody>\n",
       "    <tr>\n",
       "      <th>count</th>\n",
       "      <td>593</td>\n",
       "      <td>9</td>\n",
       "    </tr>\n",
       "    <tr>\n",
       "      <th>unique</th>\n",
       "      <td>494</td>\n",
       "      <td>8</td>\n",
       "    </tr>\n",
       "    <tr>\n",
       "      <th>top</th>\n",
       "      <td>Of</td>\n",
       "      <td>Panama</td>\n",
       "    </tr>\n",
       "    <tr>\n",
       "      <th>freq</th>\n",
       "      <td>47</td>\n",
       "      <td>2</td>\n",
       "    </tr>\n",
       "  </tbody>\n",
       "</table>\n",
       "</div>"
      ],
      "text/plain": [
       "       cities countries\n",
       "count     593         9\n",
       "unique    494         8\n",
       "top        Of    Panama\n",
       "freq       47         2"
      ]
     },
     "execution_count": 29,
     "metadata": {},
     "output_type": "execute_result"
    }
   ],
   "source": [
    "df[['cities', 'countries']].describe()"
   ]
  },
  {
   "cell_type": "code",
   "execution_count": null,
   "metadata": {},
   "outputs": [],
   "source": []
  }
 ],
 "metadata": {
  "kernelspec": {
   "display_name": "Python 3",
   "language": "python",
   "name": "python3"
  },
  "language_info": {
   "codemirror_mode": {
    "name": "ipython",
    "version": 3
   },
   "file_extension": ".py",
   "mimetype": "text/x-python",
   "name": "python",
   "nbconvert_exporter": "python",
   "pygments_lexer": "ipython3",
   "version": "3.8.5"
  }
 },
 "nbformat": 4,
 "nbformat_minor": 4
}
