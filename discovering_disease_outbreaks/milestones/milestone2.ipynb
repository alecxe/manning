{
 "cells": [
  {
   "cell_type": "code",
   "execution_count": null,
   "outputs": [],
   "source": [
    "with open(\"headlines.txt\") as file:\n",
    "    data = [headline.strip() for headline in file]\n",
    "    \n",
    "data[:4]"
   ],
   "metadata": {
    "collapsed": false,
    "pycharm": {
     "name": "#%%\n"
    }
   }
  },
  {
   "cell_type": "code",
   "execution_count": null,
   "outputs": [],
   "source": [
    "import geonamescache\n",
    "\n",
    "gc = geonamescache.GeonamesCache()\n",
    "countries = [country[\"name\"] for country in gc.get_countries().values()]\n",
    "countries[:4]"
   ],
   "metadata": {
    "collapsed": false,
    "pycharm": {
     "name": "#%%\n"
    }
   }
  },
  {
   "cell_type": "code",
   "execution_count": null,
   "outputs": [],
   "source": [
    "cities = [city['name'] for city in gc.get_cities().values()]\n",
    "cities[:4]"
   ],
   "metadata": {
    "collapsed": false,
    "pycharm": {
     "name": "#%%\n"
    }
   }
  },
  {
   "cell_type": "code",
   "execution_count": null,
   "outputs": [],
   "source": [
    "from collections import Counter\n",
    "\n",
    "city_counts = Counter(cities)\n",
    "city_counts.most_common(10)"
   ],
   "metadata": {
    "collapsed": false,
    "pycharm": {
     "name": "#%%\n"
    }
   }
  },
  {
   "cell_type": "markdown",
   "source": [
    "## Removing Accent Marks\n",
    "\n",
    "We need to remove the accent marks from the lists of countries and cities. For this we will use the `unidecode` library. (Method from this [Stack Overflow answer](https://stackoverflow.com/questions/517923/what-is-the-best-way-to-remove-accents-in-a-python-unicode-string).) For the cities and the countries from geonamescache, we will map the unaccented name to the accented name. "
   ],
   "metadata": {
    "collapsed": false
   }
  },
  {
   "cell_type": "code",
   "execution_count": null,
   "outputs": [],
   "source": [
    "import unidecode\n",
    "\n",
    "country_accent_mapping = {\n",
    "    unidecode.unidecode(country): country for country in countries\n",
    "}\n",
    "\n",
    "city_accent_mapping = {\n",
    "    unidecode.unidecode(city): city for city in cities\n",
    "}\n",
    "city_accent_mapping[\"Asmar\"]"
   ],
   "metadata": {
    "collapsed": false,
    "pycharm": {
     "name": "#%%\n"
    }
   }
  },
  {
   "cell_type": "code",
   "execution_count": null,
   "outputs": [],
   "source": [
    "data = [unidecode.unidecode(headline) for headline in data]\n",
    "data[-4:]"
   ],
   "metadata": {
    "collapsed": false,
    "pycharm": {
     "name": "#%%\n"
    }
   }
  },
  {
   "cell_type": "markdown",
   "source": [
    "# Searching for Cities and Countries\n",
    "\n",
    "Next, we'll search each headline for any cities and/or countries. To do this, we use regular expressions created from the unaccented cities and countries."
   ],
   "metadata": {
    "collapsed": false
   }
  },
  {
   "cell_type": "code",
   "execution_count": null,
   "outputs": [],
   "source": [
    "# Create list of cities and countries\n",
    "unaccented_cities = list(city_accent_mapping.keys())\n",
    "unaccented_countries = set(country_accent_mapping.keys())\n",
    "\n",
    "print(f\"There are {len(unaccented_cities)} cities to look through.\")\n",
    "print(f\"There are {len(unaccented_countries)} countries to look through.\")"
   ],
   "metadata": {
    "collapsed": false,
    "pycharm": {
     "name": "#%%\n"
    }
   }
  },
  {
   "cell_type": "code",
   "execution_count": null,
   "outputs": [],
   "source": [
    "import re\n",
    "\n",
    "problem_city = 'San Jose'\n",
    "re.search('\\\\bSan\\\\b|\\\\bSan Jose\\\\b', problem_city)"
   ],
   "metadata": {
    "collapsed": false,
    "pycharm": {
     "name": "#%%\n"
    }
   }
  },
  {
   "cell_type": "markdown",
   "source": [
    "Here we see the second problem. We've matched only `San` instead of the entire city name. To correct this, we change the ordering of the regular expression."
   ],
   "metadata": {
    "collapsed": false
   }
  },
  {
   "cell_type": "code",
   "execution_count": null,
   "outputs": [],
   "source": [
    "re.search('\\\\bSan Jose\\\\b|\\\\bSan\\\\b', problem_city)"
   ],
   "metadata": {
    "collapsed": false,
    "pycharm": {
     "name": "#%%\n"
    }
   }
  },
  {
   "cell_type": "code",
   "execution_count": null,
   "outputs": [],
   "source": [
    "unaccented_cities = sorted(unaccented_cities, key=lambda x: len(x), reverse=True)\n",
    "unaccented_cities[:2]"
   ],
   "metadata": {
    "collapsed": false,
    "pycharm": {
     "name": "#%%\n"
    }
   }
  },
  {
   "cell_type": "code",
   "execution_count": null,
   "outputs": [],
   "source": [
    "unaccented_countries = sorted(unaccented_countries, key=lambda x: len(x), reverse=True)\n",
    "unaccented_countries[:2]"
   ],
   "metadata": {
    "collapsed": false,
    "pycharm": {
     "name": "#%%\n"
    }
   }
  },
  {
   "cell_type": "code",
   "execution_count": null,
   "outputs": [],
   "source": [
    "city_regex = r'\\b|\\b'.join(unaccented_cities)\n",
    "city_regex[1500:1800]"
   ],
   "metadata": {
    "collapsed": false,
    "pycharm": {
     "name": "#%%\n"
    }
   }
  },
  {
   "cell_type": "code",
   "execution_count": null,
   "outputs": [],
   "source": [
    "import numpy as np\n",
    "\n",
    "np.random.seed(50)\n",
    "\n",
    "test_headlines = np.random.choice(data, 10)\n",
    "\n",
    "for test_headline in test_headlines:\n",
    "    print(test_headline)\n",
    "    match = re.search(city_regex, test_headline)\n",
    "    if match:\n",
    "        print(match.group(0), \"\\n\")"
   ],
   "metadata": {
    "collapsed": false,
    "pycharm": {
     "name": "#%%\n"
    }
   }
  },
  {
   "cell_type": "code",
   "execution_count": null,
   "outputs": [],
   "source": [
    "country_regex = r\"\\b|\\b\".join(unaccented_countries)\n",
    "country_regex[:100]"
   ],
   "metadata": {
    "collapsed": false,
    "pycharm": {
     "name": "#%%\n"
    }
   }
  },
  {
   "cell_type": "code",
   "execution_count": null,
   "outputs": [],
   "source": [
    "np.random.seed(100)\n",
    "test_headlines = np.random.choice(data, 10)\n",
    "\n",
    "for test_headline in test_headlines:\n",
    "    print(test_headline)\n",
    "    match = re.search(country_regex, test_headline)\n",
    "    if match:\n",
    "        print(match.group(0), \"\\n\")"
   ],
   "metadata": {
    "collapsed": false,
    "pycharm": {
     "name": "#%%\n"
    }
   }
  },
  {
   "cell_type": "code",
   "execution_count": null,
   "outputs": [],
   "source": [
    "test_headline = data[3]\n",
    "print(test_headline)\n",
    "print(re.search(city_regex, test_headline).group(0))\n",
    "print(re.search(country_regex, test_headline).group(0))"
   ],
   "metadata": {
    "collapsed": false,
    "pycharm": {
     "name": "#%%\n"
    }
   }
  },
  {
   "cell_type": "code",
   "execution_count": null,
   "outputs": [],
   "source": [
    "print(city_accent_mapping[\"Recife\"])\n",
    "print(country_accent_mapping[\"Brazil\"])"
   ],
   "metadata": {
    "collapsed": false,
    "pycharm": {
     "name": "#%%\n"
    }
   }
  },
  {
   "cell_type": "markdown",
   "source": [
    "Neither of these have accents. \n",
    "\n",
    "### City and Country Regular Expression Function\n",
    "\n",
    "Let's encapsulate the logic to find city and country names into a function."
   ],
   "metadata": {
    "collapsed": false
   }
  },
  {
   "cell_type": "code",
   "execution_count": null,
   "outputs": [],
   "source": [
    "def find_city_and_country_in_headline(headline):\n",
    "    \"\"\"\n",
    "    Find the city(s) and/or country(s) in a text headline.\n",
    "    \n",
    "    :param headline: string for headline\n",
    "    \n",
    "    :return dict: a dictionary mapping the headline to city(s) and/or countries.\n",
    "    \"\"\"\n",
    "    city_match = re.search(city_regex, headline)\n",
    "    country_match = re.search(country_regex, headline)\n",
    "    cities = None if not city_match else city_match.group(0)\n",
    "    countries = None if not country_match else country_match.group(0)\n",
    "    return dict(headline=headline, countries=countries, cities=cities)"
   ],
   "metadata": {
    "collapsed": false,
    "pycharm": {
     "name": "#%%\n"
    }
   }
  },
  {
   "cell_type": "code",
   "execution_count": null,
   "outputs": [],
   "source": [
    "find_city_and_country_in_headline(data[3])"
   ],
   "metadata": {
    "collapsed": false,
    "pycharm": {
     "name": "#%%\n"
    }
   }
  },
  {
   "cell_type": "code",
   "execution_count": null,
   "outputs": [],
   "source": [
    "find_city_and_country_in_headline(data[1])"
   ],
   "metadata": {
    "collapsed": false,
    "pycharm": {
     "name": "#%%\n"
    }
   }
  },
  {
   "cell_type": "code",
   "execution_count": null,
   "outputs": [],
   "source": [
    "headline_cities_and_countries = [\n",
    "    find_city_and_country_in_headline(headline) for headline in data\n",
    "]\n",
    "headline_cities_and_countries[-10:]"
   ],
   "metadata": {
    "collapsed": false,
    "pycharm": {
     "name": "#%%\n"
    }
   }
  },
  {
   "cell_type": "code",
   "execution_count": null,
   "outputs": [],
   "source": [
    "import json\n",
    "\n",
    "save_file = \"headline_cities_and_countries.json\"\n",
    "with open(save_file, \"w\") as fout:\n",
    "    fout.write(json.dumps(headline_cities_and_countries))"
   ],
   "metadata": {
    "collapsed": false,
    "pycharm": {
     "name": "#%%\n"
    }
   }
  },
  {
   "cell_type": "code",
   "execution_count": null,
   "outputs": [],
   "source": [
    "with open(save_file, \"r\") as fin:\n",
    "    check_data = json.loads(fin.read())"
   ],
   "metadata": {
    "collapsed": false,
    "pycharm": {
     "name": "#%%\n"
    }
   }
  },
  {
   "cell_type": "code",
   "execution_count": null,
   "outputs": [],
   "source": [
    "check_data[-10:]"
   ],
   "metadata": {
    "collapsed": false,
    "pycharm": {
     "name": "#%%\n"
    }
   }
  },
  {
   "cell_type": "code",
   "execution_count": null,
   "outputs": [],
   "source": [
    "check_data[:5]"
   ],
   "metadata": {
    "collapsed": false,
    "pycharm": {
     "name": "#%%\n"
    }
   }
  },
  {
   "cell_type": "code",
   "execution_count": null,
   "outputs": [],
   "source": [
    "with open(\"city_accent_mapping.json\", \"w\") as fout:\n",
    "    fout.write(json.dumps(city_accent_mapping))"
   ],
   "metadata": {
    "collapsed": false,
    "pycharm": {
     "name": "#%%\n"
    }
   }
  },
  {
   "cell_type": "code",
   "execution_count": null,
   "outputs": [],
   "source": [
    "with open(\"country_accent_mapping.json\", \"w\") as fout:\n",
    "    fout.write(json.dumps(country_accent_mapping))"
   ],
   "metadata": {
    "collapsed": false,
    "pycharm": {
     "name": "#%%\n"
    }
   }
  },
  {
   "cell_type": "code",
   "execution_count": null,
   "outputs": [],
   "source": [
    "import pandas as pd\n",
    "\n",
    "data = pd.read_json(\"headline_cities_and_countries.json\")\n",
    "data = data.replace({None: np.nan})\n",
    "\n",
    "data.head(10)"
   ],
   "metadata": {
    "collapsed": false,
    "pycharm": {
     "name": "#%%\n"
    }
   }
  },
  {
   "cell_type": "code",
   "execution_count": null,
   "outputs": [],
   "source": [
    "locations = {}\n",
    "for key, value in gc.get_cities().items():\n",
    "    locations[value[\"name\"]] = (value[\"latitude\"], value[\"longitude\"])\n",
    "\n",
    "data['latitude'] = data['cities'].apply(lambda x: locations.get(x, (None, None))[0])\n",
    "data['longitude'] = data['cities'].apply(lambda x: locations.get(x, (None, None))[1])"
   ],
   "metadata": {
    "collapsed": false,
    "pycharm": {
     "name": "#%%\n"
    }
   }
  },
  {
   "cell_type": "code",
   "execution_count": null,
   "outputs": [],
   "source": [
    "data.head(10)"
   ],
   "metadata": {
    "collapsed": false,
    "pycharm": {
     "name": "#%%\n"
    }
   }
  },
  {
   "cell_type": "code",
   "execution_count": null,
   "outputs": [],
   "source": [
    "country_codes = {}\n",
    "for key, value in gc.get_countries().items():\n",
    "    country_codes[value[\"name\"]] = value[\"iso\"]\n",
    "\n",
    "data['countrycode'] = data['countries'].apply(lambda x: country_codes.get(x, None))"
   ],
   "metadata": {
    "collapsed": false,
    "pycharm": {
     "name": "#%%\n"
    }
   }
  },
  {
   "cell_type": "code",
   "execution_count": null,
   "outputs": [],
   "source": [
    "data.head(10)"
   ],
   "metadata": {
    "collapsed": false,
    "pycharm": {
     "name": "#%%\n"
    }
   }
  },
  {
   "cell_type": "code",
   "execution_count": null,
   "outputs": [],
   "source": [],
   "metadata": {
    "collapsed": false,
    "pycharm": {
     "name": "#%%\n"
    }
   }
  }
 ],
 "metadata": {
  "hide_input": false,
  "kernelspec": {
   "display_name": "Python 3",
   "language": "python",
   "name": "python3"
  },
  "language_info": {
   "codemirror_mode": {
    "name": "ipython",
    "version": 3
   },
   "file_extension": ".py",
   "mimetype": "text/x-python",
   "name": "python",
   "nbconvert_exporter": "python",
   "pygments_lexer": "ipython3",
   "version": "3.8.5"
  },
  "toc": {
   "base_numbering": 1,
   "nav_menu": {},
   "number_sections": true,
   "sideBar": true,
   "skip_h1_title": false,
   "title_cell": "Table of Contents",
   "title_sidebar": "Contents",
   "toc_cell": false,
   "toc_position": {},
   "toc_section_display": true,
   "toc_window_display": false
  },
  "varInspector": {
   "cols": {
    "lenName": 16,
    "lenType": 16,
    "lenVar": 40
   },
   "kernels_config": {
    "python": {
     "delete_cmd_postfix": "",
     "delete_cmd_prefix": "del ",
     "library": "var_list.py",
     "varRefreshCmd": "print(var_dic_list())"
    },
    "r": {
     "delete_cmd_postfix": ") ",
     "delete_cmd_prefix": "rm(",
     "library": "var_list.r",
     "varRefreshCmd": "cat(var_dic_list()) "
    }
   },
   "types_to_exclude": [
    "module",
    "function",
    "builtin_function_or_method",
    "instance",
    "_Feature"
   ],
   "window_display": false
  }
 },
 "nbformat": 4,
 "nbformat_minor": 4
}